{
 "cells": [
  {
   "cell_type": "markdown",
   "metadata": {},
   "source": [
    "### Python program to interchange first and last elements in a list\n",
    "Given a list, write a Python program to swap first and last element of the list"
   ]
  },
  {
   "cell_type": "code",
   "execution_count": 12,
   "metadata": {},
   "outputs": [
    {
     "name": "stdout",
     "output_type": "stream",
     "text": [
      "[24, 35, 9, 56, 12]\n"
     ]
    }
   ],
   "source": [
    "def swapList(oldList):\n",
    "    oldList[0], oldList[-1] = oldList[-1], oldList[0]\n",
    "    return oldList\n",
    "\n",
    "print(swapList([12, 35, 9, 56, 24]))"
   ]
  },
  {
   "cell_type": "code",
   "execution_count": 18,
   "metadata": {},
   "outputs": [
    {
     "name": "stdout",
     "output_type": "stream",
     "text": [
      "[24, 35, 9, 56, 12]\n"
     ]
    }
   ],
   "source": [
    "def swapList(oldList):\n",
    "    a, *b, c = oldList\n",
    "    return [c, *b, a]  \n",
    "\n",
    "print(swapList([12, 35, 9, 56, 24]))"
   ]
  },
  {
   "cell_type": "markdown",
   "metadata": {},
   "source": [
    "### Python Program to Swap Two Elements in a List\n",
    "Given a list in Python and provided the positions of the elements, write a program to swap the two elements in the list"
   ]
  },
  {
   "cell_type": "code",
   "execution_count": 20,
   "metadata": {},
   "outputs": [
    {
     "name": "stdout",
     "output_type": "stream",
     "text": [
      "[19, 65, 23, 90]\n"
     ]
    }
   ],
   "source": [
    "def swapPositions(oldList, pos1, pos2):\n",
    "    oldList[pos1 - 1], oldList[pos2 - 1] = oldList[pos2 - 1], oldList[pos1 - 1]\n",
    "    return oldList\n",
    "\n",
    "print(swapPositions([23, 65, 19, 90], 1, 3))"
   ]
  }
 ],
 "metadata": {
  "kernelspec": {
   "display_name": "Python 3",
   "language": "python",
   "name": "python3"
  },
  "language_info": {
   "codemirror_mode": {
    "name": "ipython",
    "version": 3
   },
   "file_extension": ".py",
   "mimetype": "text/x-python",
   "name": "python",
   "nbconvert_exporter": "python",
   "pygments_lexer": "ipython3",
   "version": "3.9.13"
  },
  "orig_nbformat": 4
 },
 "nbformat": 4,
 "nbformat_minor": 2
}
