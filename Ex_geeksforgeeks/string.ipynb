{
 "cells": [
  {
   "cell_type": "markdown",
   "metadata": {},
   "source": [
    "### Symmetrical and Palindrome"
   ]
  },
  {
   "cell_type": "code",
   "execution_count": 11,
   "metadata": {},
   "outputs": [
    {
     "name": "stdout",
     "output_type": "stream",
     "text": [
      "The entered string is symmetrical\n",
      "The entered string is palindrome\n",
      "The entered string is symmetrical\n",
      "The entered string is not palindrome\n",
      "The entered string is not symmetrical\n",
      "The entered string is not palindrome\n"
     ]
    }
   ],
   "source": [
    "def solve(x):\n",
    "    n = len(x) // 2\n",
    "    if x[:n] == x[n:]:\n",
    "        print('The entered string is symmetrical')\n",
    "    else:\n",
    "        print('The entered string is not symmetrical')\n",
    "    if x[::-1] == x:\n",
    "        print('The entered string is palindrome')\n",
    "    else:\n",
    "        print('The entered string is not palindrome')\n",
    "    return\n",
    "\n",
    "solve('amaama')\n",
    "solve('khokho')\n",
    "solve('kholkho')\n"
   ]
  },
  {
   "cell_type": "markdown",
   "metadata": {},
   "source": [
    "### Reverse Words"
   ]
  },
  {
   "cell_type": "code",
   "execution_count": 13,
   "metadata": {},
   "outputs": [
    {
     "name": "stdout",
     "output_type": "stream",
     "text": [
      "code practice quiz geeks\n"
     ]
    }
   ],
   "source": [
    "def reverse(x):\n",
    "    lst = x.split()\n",
    "    print(' '.join(lst[::-1]))\n",
    "\n",
    "string = \"geeks quiz practice code\"\n",
    "reverse(string)"
   ]
  },
  {
   "cell_type": "markdown",
   "metadata": {},
   "source": [
    "### How to Remove Letters From a String in Python\n"
   ]
  },
  {
   "cell_type": "code",
   "execution_count": 19,
   "metadata": {},
   "outputs": [
    {
     "name": "stdout",
     "output_type": "stream",
     "text": [
      "GeeksForGeeks\n"
     ]
    }
   ],
   "source": [
    "def remove(x, input):\n",
    "    while input in x:\n",
    "        x = x.replace(input, '')\n",
    "    print(x)\n",
    "    return\n",
    "\n",
    "remove('Geeks123For123Geeks', '123')"
   ]
  },
  {
   "cell_type": "markdown",
   "metadata": {},
   "source": [
    "### Words Frequency in String Shorthands"
   ]
  },
  {
   "cell_type": "code",
   "execution_count": 27,
   "metadata": {},
   "outputs": [
    {
     "name": "stdout",
     "output_type": "stream",
     "text": [
      "{'is': 1, 'Gfg': 1, 'best': 1}\n",
      "{'like': 1, 'and': 1, 'Geeks': 2, 'is': 1, '.': 1, 'good': 1, 'are': 1, 'Gfg': 2, 'best': 1}\n"
     ]
    }
   ],
   "source": [
    "def countFreq(x):\n",
    "    setString = set(x.split())\n",
    "    result = {}\n",
    "    for i in setString:\n",
    "        result[i] = x.count(i)\n",
    "    print(result)\n",
    "    return\n",
    "countFreq('Gfg is best')\n",
    "countFreq('Gfg is best . Geeks are good and Geeks like Gfg')"
   ]
  },
  {
   "cell_type": "code",
   "execution_count": null,
   "metadata": {},
   "outputs": [],
   "source": []
  }
 ],
 "metadata": {
  "kernelspec": {
   "display_name": "Python 3",
   "language": "python",
   "name": "python3"
  },
  "language_info": {
   "codemirror_mode": {
    "name": "ipython",
    "version": 3
   },
   "file_extension": ".py",
   "mimetype": "text/x-python",
   "name": "python",
   "nbconvert_exporter": "python",
   "pygments_lexer": "ipython3",
   "version": "3.9.13"
  },
  "orig_nbformat": 4
 },
 "nbformat": 4,
 "nbformat_minor": 2
}
