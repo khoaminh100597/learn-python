{
 "cells": [
  {
   "cell_type": "markdown",
   "id": "1dfdd8e2",
   "metadata": {},
   "source": [
    "# 8.1 Syntax Errors"
   ]
  },
  {
   "cell_type": "markdown",
   "id": "6577bf9a",
   "metadata": {},
   "source": [
    "Syntax errors, hay còn được biêt đến là Parsing errors, là lỗi cú pháp khi ta gõ sai dòng lệnh code"
   ]
  },
  {
   "cell_type": "code",
   "execution_count": 1,
   "id": "0c17bbbf",
   "metadata": {},
   "outputs": [
    {
     "ename": "SyntaxError",
     "evalue": "invalid syntax (3039929649.py, line 1)",
     "output_type": "error",
     "traceback": [
      "\u001b[1;36m  Input \u001b[1;32mIn [1]\u001b[1;36m\u001b[0m\n\u001b[1;33m    while True print(\"Hello world\")\u001b[0m\n\u001b[1;37m               ^\u001b[0m\n\u001b[1;31mSyntaxError\u001b[0m\u001b[1;31m:\u001b[0m invalid syntax\n"
     ]
    }
   ],
   "source": [
    "while True print(\"Hello world\")"
   ]
  },
  {
   "cell_type": "markdown",
   "id": "599131a4",
   "metadata": {},
   "source": [
    "# 8.2 Exceptions"
   ]
  },
  {
   "cell_type": "markdown",
   "id": "ca4bcbb2",
   "metadata": {},
   "source": [
    "Các ngoại lệ exceptions ta thường gặp ZeroDivisionErro, NameError, và TypeError"
   ]
  },
  {
   "cell_type": "markdown",
   "id": "a337b0bb",
   "metadata": {},
   "source": [
    "Các built-in Exceptions ta thường thấy là : https://docs.python.org/3/library/exceptions.html#bltin-exceptions"
   ]
  },
  {
   "cell_type": "markdown",
   "id": "a3020ed7",
   "metadata": {},
   "source": [
    "# 8.3 Handling Exceptions"
   ]
  },
  {
   "cell_type": "markdown",
   "id": "2eb32116",
   "metadata": {},
   "source": [
    "Sử dụng cú pháp `try` và `except` statement để thực hiện việc xử lý các exception mà không làm dừng chương trình\n",
    "\n",
    "Đầu tiên, các câu lệnh phía sau `try` sẽ được thực thi\n",
    "\n",
    "Kế tiếp, khi xuất hiện exception, chương trình sẽ dò tên exception sau khi ta định nghĩa các `except`. Và nếu match, sẽ thực thi câu lệnh sau except"
   ]
  },
  {
   "cell_type": "code",
   "execution_count": 2,
   "id": "866bab17",
   "metadata": {},
   "outputs": [
    {
     "name": "stdout",
     "output_type": "stream",
     "text": [
      "Please input a number : d\n",
      "Oops! Something went wrong\n",
      "Please input a number : fds\n",
      "Oops! Something went wrong\n",
      "Please input a number : dsf\n",
      "Oops! Something went wrong\n",
      "Please input a number : 3\n"
     ]
    }
   ],
   "source": [
    "while True:\n",
    "    try:\n",
    "        i = int(input(\"Please input a number : \"))\n",
    "        break\n",
    "    except ValueError:\n",
    "        print(\"Oops! Something went wrong\")"
   ]
  },
  {
   "cell_type": "markdown",
   "id": "cb1b8e69",
   "metadata": {},
   "source": [
    "Ta có thể gộp các exception lại với nhau để thực hiện statement y chang nhau:"
   ]
  },
  {
   "cell_type": "markdown",
   "id": "362e5f25",
   "metadata": {},
   "source": [
    "```\n",
    "except(RuntimeError, TypeError, NameError):\n",
    "    pass\n",
    "```"
   ]
  },
  {
   "cell_type": "markdown",
   "id": "8a2da741",
   "metadata": {},
   "source": [
    "`try...expept` statement có thể dùng thêm `else` clause để thực hiện các statement nếu không xảy ra một exception nào\n",
    "\n",
    "`else` clause được xem như là phần code phụ \"an toàn\" thêm vào sau cùng `try`, nếu như không xảy ra exception nào\n"
   ]
  },
  {
   "cell_type": "code",
   "execution_count": 4,
   "id": "f5361606",
   "metadata": {},
   "outputs": [
    {
     "name": "stdout",
     "output_type": "stream",
     "text": [
      "cannot open -f\n",
      "C:\\Users\\PECC2\\AppData\\Roaming\\jupyter\\runtime\\kernel-87786327-f361-472f-a290-910c8b9268b1.json has 12 lines\n"
     ]
    }
   ],
   "source": [
    "import sys\n",
    "for arg in sys.argv[1:]:\n",
    "    try:\n",
    "        f = open(arg, 'r')\n",
    "    except OSError:\n",
    "        print('cannot open', arg)\n",
    "    else:\n",
    "        print(arg, 'has', len(f.readlines()), 'lines')\n",
    "        f.close()\n"
   ]
  },
  {
   "cell_type": "markdown",
   "id": "f583c32c",
   "metadata": {},
   "source": [
    "# 8.4 Raising Exceptions"
   ]
  },
  {
   "cell_type": "markdown",
   "id": "f429b85c",
   "metadata": {},
   "source": [
    "`raise` statement cho phép người lập trình thúc ép việc xảy ra exception"
   ]
  },
  {
   "cell_type": "code",
   "execution_count": 5,
   "id": "39f2b5bf",
   "metadata": {},
   "outputs": [
    {
     "ename": "NameError",
     "evalue": "Hithere",
     "output_type": "error",
     "traceback": [
      "\u001b[1;31m---------------------------------------------------------------------------\u001b[0m",
      "\u001b[1;31mNameError\u001b[0m                                 Traceback (most recent call last)",
      "Input \u001b[1;32mIn [5]\u001b[0m, in \u001b[0;36m<cell line: 1>\u001b[1;34m()\u001b[0m\n\u001b[1;32m----> 1\u001b[0m \u001b[38;5;28;01mraise\u001b[39;00m \u001b[38;5;167;01mNameError\u001b[39;00m(\u001b[38;5;124m\"\u001b[39m\u001b[38;5;124mHithere\u001b[39m\u001b[38;5;124m\"\u001b[39m)\n",
      "\u001b[1;31mNameError\u001b[0m: Hithere"
     ]
    }
   ],
   "source": [
    "raise NameError(\"Hithere\")"
   ]
  },
  {
   "cell_type": "code",
   "execution_count": 6,
   "id": "692786d8",
   "metadata": {},
   "outputs": [
    {
     "ename": "ValueError",
     "evalue": "",
     "output_type": "error",
     "traceback": [
      "\u001b[1;31m---------------------------------------------------------------------------\u001b[0m",
      "\u001b[1;31mValueError\u001b[0m                                Traceback (most recent call last)",
      "Input \u001b[1;32mIn [6]\u001b[0m, in \u001b[0;36m<cell line: 1>\u001b[1;34m()\u001b[0m\n\u001b[1;32m----> 1\u001b[0m \u001b[38;5;28;01mraise\u001b[39;00m \u001b[38;5;167;01mValueError\u001b[39;00m\n",
      "\u001b[1;31mValueError\u001b[0m: "
     ]
    }
   ],
   "source": [
    "raise ValueError"
   ]
  },
  {
   "cell_type": "markdown",
   "id": "2f2fc650",
   "metadata": {},
   "source": [
    "# 8.6 User-defined Exceptions"
   ]
  },
  {
   "cell_type": "markdown",
   "id": "30b9bc67",
   "metadata": {},
   "source": [
    "Ta có thể tạo ra các exception thông qua tạo một exception class mới (kế thừa từ `BaseException`"
   ]
  },
  {
   "cell_type": "markdown",
   "id": "c91cfa0a",
   "metadata": {},
   "source": [
    "# 8.7 Defining Clean-up Actions"
   ]
  },
  {
   "cell_type": "markdown",
   "id": "923ddd94",
   "metadata": {},
   "source": [
    "`try...except` statement còn có một clean-up actions sẽ thực hiện các statement đối với tất cả trường hợp exception thông qua dùng finally"
   ]
  },
  {
   "cell_type": "code",
   "execution_count": 1,
   "id": "a36be01d",
   "metadata": {},
   "outputs": [
    {
     "name": "stdout",
     "output_type": "stream",
     "text": [
      "Goodbye, world!\n"
     ]
    },
    {
     "ename": "KeyboardInterrupt",
     "evalue": "",
     "output_type": "error",
     "traceback": [
      "\u001b[1;31m---------------------------------------------------------------------------\u001b[0m",
      "\u001b[1;31mKeyboardInterrupt\u001b[0m                         Traceback (most recent call last)",
      "Input \u001b[1;32mIn [1]\u001b[0m, in \u001b[0;36m<cell line: 1>\u001b[1;34m()\u001b[0m\n\u001b[0;32m      1\u001b[0m \u001b[38;5;28;01mtry\u001b[39;00m:\n\u001b[1;32m----> 2\u001b[0m     \u001b[38;5;28;01mraise\u001b[39;00m \u001b[38;5;167;01mKeyboardInterrupt\u001b[39;00m\n\u001b[0;32m      3\u001b[0m \u001b[38;5;28;01mfinally\u001b[39;00m:\n\u001b[0;32m      4\u001b[0m     \u001b[38;5;28mprint\u001b[39m(\u001b[38;5;124m'\u001b[39m\u001b[38;5;124mGoodbye, world!\u001b[39m\u001b[38;5;124m'\u001b[39m)\n",
      "\u001b[1;31mKeyboardInterrupt\u001b[0m: "
     ]
    }
   ],
   "source": [
    "try:\n",
    "    raise KeyboardInterrupt\n",
    "finally:\n",
    "    print('Goodbye, world!')"
   ]
  },
  {
   "cell_type": "code",
   "execution_count": 2,
   "id": "502e1332",
   "metadata": {},
   "outputs": [],
   "source": [
    "while True:\n",
    "    try:\n",
    "        raise KeyboardInterrupt\n",
    "    finally:\n",
    "        break"
   ]
  },
  {
   "cell_type": "markdown",
   "id": "3923c6fd",
   "metadata": {},
   "source": [
    "Vài điều cần lưu ý khi dùng `finally`, các câu lệnh `finally` đều xảy ra cho dù có hay không có exception\n",
    "\n",
    "Nếu có exception được xác định và xử lý trước, thì các câu lệnh sau exeption xảy ra trước finally\n",
    "\n",
    "Nếu có exception nhưng không xử lý, thì các câu lệnh sau finally xảy ra trước, và re-raise exception lại một lần nữa\n",
    "\n",
    "Nếu ở trong các câu lệnh của Finally, ta thấy các `break`, `continue`, `return` statement thì sẽ không re-raise các exception mà thoát ra khỏi vòng lặp, hoặc đến vòng lặp tiếp theo, hoặc trả vê giá trị trong hàm"
   ]
  },
  {
   "cell_type": "code",
   "execution_count": 3,
   "id": "ed067654",
   "metadata": {},
   "outputs": [],
   "source": [
    "def divide(x, y):\n",
    "    try:\n",
    "        result = x / y\n",
    "    except ZeroDivisionError:\n",
    "        print(\"division by zero!\")\n",
    "    else:\n",
    "        print(\"result is {}\".format(result))\n",
    "    finally:\n",
    "        print(\"executing finally clause\")"
   ]
  },
  {
   "cell_type": "code",
   "execution_count": 4,
   "id": "524e7ce3",
   "metadata": {},
   "outputs": [
    {
     "name": "stdout",
     "output_type": "stream",
     "text": [
      "result is 2.0\n",
      "executing finally clause\n"
     ]
    }
   ],
   "source": [
    "divide(2, 1)"
   ]
  },
  {
   "cell_type": "code",
   "execution_count": 5,
   "id": "918b170b",
   "metadata": {},
   "outputs": [
    {
     "name": "stdout",
     "output_type": "stream",
     "text": [
      "division by zero!\n",
      "executing finally clause\n"
     ]
    }
   ],
   "source": [
    "divide(2, 0)"
   ]
  },
  {
   "cell_type": "code",
   "execution_count": null,
   "id": "89120a86",
   "metadata": {},
   "outputs": [],
   "source": []
  }
 ],
 "metadata": {
  "kernelspec": {
   "display_name": "Python 3 (ipykernel)",
   "language": "python",
   "name": "python3"
  },
  "language_info": {
   "codemirror_mode": {
    "name": "ipython",
    "version": 3
   },
   "file_extension": ".py",
   "mimetype": "text/x-python",
   "name": "python",
   "nbconvert_exporter": "python",
   "pygments_lexer": "ipython3",
   "version": "3.10.5"
  }
 },
 "nbformat": 4,
 "nbformat_minor": 5
}
