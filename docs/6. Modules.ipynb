{
 "cells": [
  {
   "cell_type": "markdown",
   "id": "3c7d19e0",
   "metadata": {},
   "source": [
    "Mỗi file .py được tạo ra tương đương một module, nếu ta muốn sử dụng các function, các class định nghĩa trong một module hiện thời thì ta sử dùng `import` statement"
   ]
  },
  {
   "cell_type": "code",
   "execution_count": 1,
   "id": "62427d8e",
   "metadata": {},
   "outputs": [],
   "source": [
    "# Create a new file fibo.py\n",
    "def fib(n):    # write Fibonacci series up to n\n",
    "    a, b = 0, 1\n",
    "    while a < n:\n",
    "        print(a, end=' ')\n",
    "        a, b = b, a+b\n",
    "    print()\n",
    "\n",
    "def fib2(n):   # return Fibonacci series up to n\n",
    "    result = []\n",
    "    a, b = 0, 1\n",
    "    while a < n:\n",
    "        result.append(a)\n",
    "        a, b = b, a+b\n",
    "    return result"
   ]
  },
  {
   "cell_type": "code",
   "execution_count": 2,
   "id": "815a2490",
   "metadata": {},
   "outputs": [],
   "source": [
    "# import this module to Python interpreter\n",
    "import fibo"
   ]
  },
  {
   "cell_type": "markdown",
   "id": "c0216ce2",
   "metadata": {},
   "source": [
    "Nêu ta muốn import các module con của một module, như modname.itemname ta dùng như sau:"
   ]
  },
  {
   "cell_type": "code",
   "execution_count": 3,
   "id": "b9fa0e19",
   "metadata": {},
   "outputs": [],
   "source": [
    "from fibo import fib, fib2"
   ]
  },
  {
   "cell_type": "code",
   "execution_count": 4,
   "id": "18a643b5",
   "metadata": {},
   "outputs": [
    {
     "name": "stdout",
     "output_type": "stream",
     "text": [
      "0 1 1 2 3 5 8 13 21 34 55 89 144 233 377 \n"
     ]
    }
   ],
   "source": [
    "fib(500)"
   ]
  },
  {
   "cell_type": "markdown",
   "id": "7bbb955c",
   "metadata": {},
   "source": [
    "Nếu ta muốn import tất cả module con của một module, ta dùng import *"
   ]
  },
  {
   "cell_type": "code",
   "execution_count": 5,
   "id": "820770af",
   "metadata": {},
   "outputs": [],
   "source": [
    "from fibo import *"
   ]
  },
  {
   "cell_type": "markdown",
   "id": "07a404ca",
   "metadata": {},
   "source": [
    "Ta có thể đổi tên module import vào qua keyword `as`"
   ]
  },
  {
   "cell_type": "code",
   "execution_count": 8,
   "id": "8cf30006",
   "metadata": {},
   "outputs": [],
   "source": [
    "from fibo import fib as fibonacci"
   ]
  },
  {
   "cell_type": "code",
   "execution_count": 9,
   "id": "26ff89e1",
   "metadata": {},
   "outputs": [
    {
     "name": "stdout",
     "output_type": "stream",
     "text": [
      "0 1 1 2 3 5 8 13 21 34 55 89 144 233 377 \n"
     ]
    }
   ],
   "source": [
    "fibonacci(500)"
   ]
  },
  {
   "cell_type": "markdown",
   "id": "f6f08723",
   "metadata": {},
   "source": [
    "## 6.1.1 Executing modules as scripts"
   ]
  },
  {
   "cell_type": "markdown",
   "id": "c3309a42",
   "metadata": {},
   "source": [
    "Ta có thể thực hiện executing moduls ngay trên cmd theo cấu trúc\n",
    "    \n",
    "    $ python fibo.py 50"
   ]
  },
  {
   "cell_type": "markdown",
   "id": "97e789b8",
   "metadata": {},
   "source": [
    "Ta chỉ việc thêm vào cuối file đoạn code đặt `__name__` là `\"__main__\"`"
   ]
  },
  {
   "cell_type": "code",
   "execution_count": null,
   "id": "102d6f9f",
   "metadata": {},
   "outputs": [],
   "source": [
    "if __name__ == \"__main__\":\n",
    "    import sys\n",
    "    fib(int(sys.argv[1]))"
   ]
  },
  {
   "cell_type": "code",
   "execution_count": null,
   "id": "27abd27a",
   "metadata": {},
   "outputs": [],
   "source": []
  }
 ],
 "metadata": {
  "kernelspec": {
   "display_name": "Python 3 (ipykernel)",
   "language": "python",
   "name": "python3"
  },
  "language_info": {
   "codemirror_mode": {
    "name": "ipython",
    "version": 3
   },
   "file_extension": ".py",
   "mimetype": "text/x-python",
   "name": "python",
   "nbconvert_exporter": "python",
   "pygments_lexer": "ipython3",
   "version": "3.10.5"
  }
 },
 "nbformat": 4,
 "nbformat_minor": 5
}
