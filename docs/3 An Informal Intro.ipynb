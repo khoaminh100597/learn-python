{
 "cells": [
  {
   "cell_type": "markdown",
   "id": "4bcceed6",
   "metadata": {},
   "source": [
    "# 3.1 Using Python as a Calculator"
   ]
  },
  {
   "cell_type": "code",
   "execution_count": 2,
   "id": "408211c1",
   "metadata": {},
   "outputs": [
    {
     "data": {
      "text/plain": [
       "4"
      ]
     },
     "execution_count": 2,
     "metadata": {},
     "output_type": "execute_result"
    }
   ],
   "source": [
    "2 + 2"
   ]
  },
  {
   "cell_type": "code",
   "execution_count": 3,
   "id": "c6bfb7c1",
   "metadata": {},
   "outputs": [
    {
     "data": {
      "text/plain": [
       "20"
      ]
     },
     "execution_count": 3,
     "metadata": {},
     "output_type": "execute_result"
    }
   ],
   "source": [
    "50-5*6"
   ]
  },
  {
   "cell_type": "markdown",
   "id": "8f4b477a",
   "metadata": {},
   "source": [
    "Cú pháp biểu thức sử dụng thông qua các toán tử +, -, *, /"
   ]
  },
  {
   "cell_type": "code",
   "execution_count": 4,
   "id": "db63479e",
   "metadata": {},
   "outputs": [
    {
     "data": {
      "text/plain": [
       "5.666666666666667"
      ]
     },
     "execution_count": 4,
     "metadata": {},
     "output_type": "execute_result"
    }
   ],
   "source": [
    "17/3"
   ]
  },
  {
   "cell_type": "code",
   "execution_count": 5,
   "id": "b953d607",
   "metadata": {},
   "outputs": [
    {
     "data": {
      "text/plain": [
       "5"
      ]
     },
     "execution_count": 5,
     "metadata": {},
     "output_type": "execute_result"
    }
   ],
   "source": [
    "17//3"
   ]
  },
  {
   "cell_type": "code",
   "execution_count": 6,
   "id": "8910727d",
   "metadata": {},
   "outputs": [
    {
     "data": {
      "text/plain": [
       "2"
      ]
     },
     "execution_count": 6,
     "metadata": {},
     "output_type": "execute_result"
    }
   ],
   "source": [
    "17%3"
   ]
  },
  {
   "cell_type": "markdown",
   "id": "185d826b",
   "metadata": {},
   "source": [
    "The equal sign (=) is used to assign a value to a variable."
   ]
  },
  {
   "cell_type": "code",
   "execution_count": 1,
   "id": "170635e4",
   "metadata": {},
   "outputs": [],
   "source": [
    "width = 20"
   ]
  },
  {
   "cell_type": "markdown",
   "id": "e3e73b1f",
   "metadata": {},
   "source": [
    "In interactive mode, the last printed expression is assigned to the variable `_`"
   ]
  },
  {
   "cell_type": "code",
   "execution_count": null,
   "id": "066c2a29",
   "metadata": {},
   "outputs": [],
   "source": []
  }
 ],
 "metadata": {
  "kernelspec": {
   "display_name": "Python 3 (ipykernel)",
   "language": "python",
   "name": "python3"
  },
  "language_info": {
   "codemirror_mode": {
    "name": "ipython",
    "version": 3
   },
   "file_extension": ".py",
   "mimetype": "text/x-python",
   "name": "python",
   "nbconvert_exporter": "python",
   "pygments_lexer": "ipython3",
   "version": "3.9.13"
  }
 },
 "nbformat": 4,
 "nbformat_minor": 5
}
