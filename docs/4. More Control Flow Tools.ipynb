{
 "cells": [
  {
   "cell_type": "markdown",
   "id": "8a4d5663",
   "metadata": {},
   "source": [
    "# 4.1 `if` Statements"
   ]
  },
  {
   "cell_type": "code",
   "execution_count": 2,
   "id": "7b2b0d88",
   "metadata": {},
   "outputs": [
    {
     "name": "stdout",
     "output_type": "stream",
     "text": [
      "Please input an integer : 42\n"
     ]
    }
   ],
   "source": [
    "x = int(input(\"Please input an integer : \"))"
   ]
  },
  {
   "cell_type": "code",
   "execution_count": 3,
   "id": "d8d97cdd",
   "metadata": {},
   "outputs": [
    {
     "name": "stdout",
     "output_type": "stream",
     "text": [
      "More\n"
     ]
    }
   ],
   "source": [
    "if x < 0 :\n",
    "    x = 0\n",
    "    print(\"Negative changed to zero\")\n",
    "elif x == 0:\n",
    "    print(\"Zero\")\n",
    "elif x == 1:\n",
    "    print(\"Single\")\n",
    "else:\n",
    "    print(\"More\")"
   ]
  },
  {
   "cell_type": "markdown",
   "id": "c10c97c9",
   "metadata": {},
   "source": [
    "`if`, `elif`, `else` là các keyword tạo nên các case statements"
   ]
  },
  {
   "cell_type": "markdown",
   "id": "51c98889",
   "metadata": {},
   "source": [
    "# 4.2 `for` Statements"
   ]
  },
  {
   "cell_type": "code",
   "execution_count": 9,
   "id": "01c9a7ff",
   "metadata": {},
   "outputs": [
    {
     "name": "stdout",
     "output_type": "stream",
     "text": [
      "cat 3\n",
      "window 6\n",
      "defenestrate 12\n"
     ]
    }
   ],
   "source": [
    "# Measure some strings:\n",
    "words = ['cat', 'window', 'defenestrate']\n",
    "for w in words:\n",
    "    print(w, len(w))"
   ]
  },
  {
   "cell_type": "code",
   "execution_count": 8,
   "id": "c9139b6d",
   "metadata": {},
   "outputs": [
    {
     "name": "stdout",
     "output_type": "stream",
     "text": [
      "Hans: active\n",
      "Minh: active\n",
      "Hans active\n",
      "Minh active\n"
     ]
    }
   ],
   "source": [
    "# Create a sample collection\n",
    "users = {\"Hans\": \"active\", \"E1lenore\": \"inactive\", \"Minh\": \"active\"}\n",
    "\n",
    "# Strategy: Iterate over a copy\n",
    "for user, status in users.copy().items():\n",
    "    if status == \"inactive\":\n",
    "        del users[user]\n",
    "\n",
    "for user, status in users.items(): print(user, status, sep = \": \")\n",
    "\n",
    "# Strategy: Create a new collection\n",
    "active_users = {}\n",
    "for user, status in users.items():\n",
    "    if status == \"active\":\n",
    "        active_users[user] = status\n",
    "for user, status in active_users.items(): print(user, status)"
   ]
  },
  {
   "cell_type": "markdown",
   "id": "7628dde3",
   "metadata": {},
   "source": [
    "Vòng lặp `for` có thể tạo vòng lặp qua các con số hoặc vòng lặp qua các phần tử thuộc đối tượng iterable"
   ]
  },
  {
   "cell_type": "markdown",
   "id": "e4d561d3",
   "metadata": {},
   "source": [
    "# 4.3 `The range()` Function"
   ]
  },
  {
   "cell_type": "markdown",
   "id": "afc239a9",
   "metadata": {},
   "source": [
    "Nếu ta muốn tạo vòng lặp thông qua một dãy số, thì hàm built-in `range()` sẽ xử lý giúp, kết hợp với `for`"
   ]
  },
  {
   "cell_type": "code",
   "execution_count": 11,
   "id": "ffffcb2b",
   "metadata": {},
   "outputs": [
    {
     "name": "stdout",
     "output_type": "stream",
     "text": [
      "0\n",
      "1\n",
      "2\n",
      "3\n",
      "4\n"
     ]
    }
   ],
   "source": [
    "for i in range(5):\n",
    "    print(i)"
   ]
  },
  {
   "cell_type": "code",
   "execution_count": 17,
   "id": "1b610131",
   "metadata": {},
   "outputs": [
    {
     "data": {
      "text/plain": [
       "[5, 6, 7, 8, 9]"
      ]
     },
     "execution_count": 17,
     "metadata": {},
     "output_type": "execute_result"
    }
   ],
   "source": [
    "# class range(object)\n",
    "# range(stop) -> range object\n",
    "# range(start, stop[, step]) -> range object\n",
    "list(range(5, 10))\n"
   ]
  },
  {
   "cell_type": "code",
   "execution_count": 16,
   "id": "def38376",
   "metadata": {},
   "outputs": [
    {
     "data": {
      "text/plain": [
       "[0, 3, 6, 9]"
      ]
     },
     "execution_count": 16,
     "metadata": {},
     "output_type": "execute_result"
    }
   ],
   "source": [
    "list(range(0, 10, 3))"
   ]
  },
  {
   "cell_type": "code",
   "execution_count": 18,
   "id": "3473f585",
   "metadata": {},
   "outputs": [
    {
     "data": {
      "text/plain": [
       "[-10, -40, -70]"
      ]
     },
     "execution_count": 18,
     "metadata": {},
     "output_type": "execute_result"
    }
   ],
   "source": [
    "list(range(-10, -100, -30))"
   ]
  },
  {
   "cell_type": "markdown",
   "id": "72554214",
   "metadata": {},
   "source": [
    "Ta có thể tạo vòng lặp thông các chỉ số `indices`, ta có thể kết hợp `range()` và `len()`:"
   ]
  },
  {
   "cell_type": "code",
   "execution_count": 20,
   "id": "0cb13c71",
   "metadata": {},
   "outputs": [
    {
     "name": "stdout",
     "output_type": "stream",
     "text": [
      "0: Mary\n",
      "1: had\n",
      "2: a\n",
      "3: little\n",
      "4: lamb\n"
     ]
    }
   ],
   "source": [
    "a = ['Mary', 'had', 'a', 'little', 'lamb']\n",
    "for i in range(len(a)): print(i, a[i], sep =': ')"
   ]
  },
  {
   "cell_type": "markdown",
   "id": "a06d12c0",
   "metadata": {},
   "source": [
    "Trong nhiều trường hợp, ta có thể dùng `enumerate` để tạo vòng lặp for"
   ]
  },
  {
   "cell_type": "code",
   "execution_count": 21,
   "id": "dad06314",
   "metadata": {},
   "outputs": [
    {
     "data": {
      "text/plain": [
       "[(0, 'Spring'), (1, 'Summer'), (2, 'Fall'), (3, 'Winter')]"
      ]
     },
     "execution_count": 21,
     "metadata": {},
     "output_type": "execute_result"
    }
   ],
   "source": [
    "seasons = ['Spring', 'Summer', 'Fall', 'Winter']\n",
    "list(enumerate(seasons))"
   ]
  },
  {
   "cell_type": "code",
   "execution_count": 22,
   "id": "e684d560",
   "metadata": {},
   "outputs": [
    {
     "name": "stdout",
     "output_type": "stream",
     "text": [
      "0: Spring\n",
      "1: Summer\n",
      "2: Fall\n",
      "3: Winter\n"
     ]
    }
   ],
   "source": [
    "for i, s in enumerate(seasons):\n",
    "    print(i, s, sep=': ')"
   ]
  },
  {
   "cell_type": "markdown",
   "id": "04c07285",
   "metadata": {},
   "source": [
    "Ở nhiều góc nhìn, `range()` hoạt động giống `list()`, nhưng trên thực tế không phải vậy. Đó là một đối tượng sẽ trả về lần lượt các đối tượng liên tiếp trong một chuỗi sequence mong muốn khi ta thực hiện vòng lặp. Đối tượng `iterable` sẽ giúp ta tiết kiệm không gian lưu trữ"
   ]
  },
  {
   "cell_type": "code",
   "execution_count": 23,
   "id": "18a5b382",
   "metadata": {},
   "outputs": [
    {
     "data": {
      "text/plain": [
       "6"
      ]
     },
     "execution_count": 23,
     "metadata": {},
     "output_type": "execute_result"
    }
   ],
   "source": [
    "sum(range(4))"
   ]
  },
  {
   "cell_type": "markdown",
   "id": "1179cd5f",
   "metadata": {},
   "source": [
    "# 4.4 `break` and `continue` Statements, and `else` Clauses on Loops"
   ]
  },
  {
   "cell_type": "markdown",
   "id": "d26729d1",
   "metadata": {},
   "source": [
    "`break` statement, sẽ tạo nên một hành động break out phá vỡ vòng lặp của `for` hoặc `while`"
   ]
  },
  {
   "cell_type": "markdown",
   "id": "c2503093",
   "metadata": {},
   "source": [
    "Các vòng lặp `for`, `while` có thể có `else` clause để thực thi những câu lệnh ngay sau đã kết thúc vòng lặp **cuối cùng**. Tuy nhiên, nếu trước đó đã có `break` statement thì những câu lệnh sau `else` sẽ không được thực thi"
   ]
  },
  {
   "cell_type": "code",
   "execution_count": 25,
   "id": "17125b73",
   "metadata": {},
   "outputs": [
    {
     "name": "stdout",
     "output_type": "stream",
     "text": [
      "2 is a prime number\n",
      "3 is a prime number\n",
      "4 equals 2 * 2\n",
      "5 is a prime number\n",
      "6 equals 2 * 3\n",
      "7 is a prime number\n",
      "8 equals 2 * 4\n",
      "9 equals 3 * 3\n"
     ]
    }
   ],
   "source": [
    "for n in range(2, 10):\n",
    "    for x in range(2, n):\n",
    "        if n % x == 0:\n",
    "            print(n, \"equals\", x, \"*\", n//x)\n",
    "            break\n",
    "    else:\n",
    "        # Loop fell through without finding a factor\n",
    "        print(n, \"is a prime number\")"
   ]
  },
  {
   "cell_type": "markdown",
   "id": "cf1937b4",
   "metadata": {},
   "source": [
    "Việc sử dụng `else` statement trong các vòng lặp `for`, `while` rất giống với `else` khi sử dụng trong `try` statements, các câu lệnh được thực thi phía sau `else` chỉ được thực thi khi không có lỗi exception nào xảy ra"
   ]
  },
  {
   "cell_type": "markdown",
   "id": "df7f966f",
   "metadata": {},
   "source": [
    "Việc sử dụng `continue` sẽ giúp ta đi đến vòng lặp mới tiếp theo, bỏ qua những đoạn câu phía code còn lại phía sau:"
   ]
  },
  {
   "cell_type": "code",
   "execution_count": 26,
   "id": "a193846f",
   "metadata": {},
   "outputs": [
    {
     "name": "stdout",
     "output_type": "stream",
     "text": [
      "Found an even number :  2\n",
      "Found an odd number :  3\n",
      "Found an even number :  4\n",
      "Found an odd number :  5\n",
      "Found an even number :  6\n",
      "Found an odd number :  7\n",
      "Found an even number :  8\n",
      "Found an odd number :  9\n"
     ]
    }
   ],
   "source": [
    "for num in range(2, 10):\n",
    "    if num % 2 == 0:\n",
    "        print(\"Found an even number : \", num)\n",
    "        continue\n",
    "    print(\"Found an odd number : \", num)"
   ]
  },
  {
   "cell_type": "markdown",
   "id": "c28e44c9",
   "metadata": {},
   "source": [
    "# 4.5 `pass` Statements"
   ]
  },
  {
   "cell_type": "markdown",
   "id": "26f271cf",
   "metadata": {},
   "source": [
    "`pass` statement không làm gì cả. Nó có thể được dùng khi một statement cần tính hợp lý mặt cú pháp, nhưng chương trình không cần làm một hành động gì cả"
   ]
  },
  {
   "cell_type": "code",
   "execution_count": null,
   "id": "a8b93d1d",
   "metadata": {},
   "outputs": [],
   "source": [
    "while True:\n",
    "    pass # Busy - wait for keyboard interrupt"
   ]
  },
  {
   "cell_type": "markdown",
   "id": "6905d72e",
   "metadata": {},
   "source": [
    "Được dùng làm tạo các minimal class (class nhỏ nhất)"
   ]
  },
  {
   "cell_type": "code",
   "execution_count": null,
   "id": "6f8e8499",
   "metadata": {},
   "outputs": [],
   "source": [
    "class MyEmptyClass:\n",
    "    pass"
   ]
  },
  {
   "cell_type": "markdown",
   "id": "e8d7af17",
   "metadata": {},
   "source": [
    "Hoặc được dùng, để ta tạo một place-holder (một chỗ giữ vị trí trước) để ta có thời gian suy nghĩ bắt đầu từ trạng thái trừu tượng nhất"
   ]
  },
  {
   "cell_type": "code",
   "execution_count": null,
   "id": "aa2fd24e",
   "metadata": {},
   "outputs": [],
   "source": [
    "def initlog(*args):\n",
    "    pass # Remember to implement this!"
   ]
  },
  {
   "cell_type": "markdown",
   "id": "7526dc08",
   "metadata": {},
   "source": [
    "# 4.6 `match` Statements"
   ]
  },
  {
   "cell_type": "markdown",
   "id": "511f14ab",
   "metadata": {},
   "source": [
    "`match` statement sẽ lấy một giá trị expression và đem so sánh với các giá trị trong các trường hợp ta định nghĩa trước. Việc thực hiện `match` statement giông switch trong các ngôn ngữ khác"
   ]
  },
  {
   "cell_type": "code",
   "execution_count": 1,
   "id": "8b1a7655",
   "metadata": {},
   "outputs": [],
   "source": [
    "def http_error(status):\n",
    "    match status:\n",
    "        case 400:\n",
    "            return \"Bad request\"\n",
    "        case 404:\n",
    "            return \"Not found\"\n",
    "        case 418:\n",
    "            return \"I am a teapot\"\n",
    "        case 401 | 403 | 404: # we can combine many case together with the same execution code after that\n",
    "            return \"Not allowed\" \n",
    "        case _: # this case acts when there is no any case to match\n",
    "            return \"Something went wrong with the internet\""
   ]
  },
  {
   "cell_type": "code",
   "execution_count": 4,
   "id": "0820acdc",
   "metadata": {},
   "outputs": [
    {
     "name": "stdout",
     "output_type": "stream",
     "text": [
      "Not allowed\n"
     ]
    }
   ],
   "source": [
    "print(http_error(401))"
   ]
  },
  {
   "cell_type": "code",
   "execution_count": 5,
   "id": "f282ed65",
   "metadata": {},
   "outputs": [
    {
     "name": "stdout",
     "output_type": "stream",
     "text": [
      "I am a teapot\n"
     ]
    }
   ],
   "source": [
    "print(http_error(418))"
   ]
  },
  {
   "cell_type": "code",
   "execution_count": 6,
   "id": "ac0f02ea",
   "metadata": {},
   "outputs": [
    {
     "name": "stdout",
     "output_type": "stream",
     "text": [
      "Something went wrong with the internet\n"
     ]
    }
   ],
   "source": [
    "print(http_error(999))"
   ]
  },
  {
   "cell_type": "markdown",
   "id": "9277272e",
   "metadata": {},
   "source": [
    "Một ví dụ khác về việc dùng `match` Statements trong python. Nếu ta sử dụng classes để tạo nên cấu trúc dữ liệu thông qua việc gọi một constructor, thì việc match có thế thêm một vài lựa chọn như sau:"
   ]
  },
  {
   "cell_type": "code",
   "execution_count": 124,
   "id": "76b89012",
   "metadata": {},
   "outputs": [],
   "source": [
    "class Point:\n",
    "    x: int\n",
    "    y: int\n",
    "    \n",
    "    def __init__(self, x, y): # lưu ý cách sử dụng * và / để ép force positional arguments và keyword arguments\n",
    "        self.x = x\n",
    "        self.y = y\n",
    "\n",
    "def where_is(point):\n",
    "    match point:\n",
    "        case Point(x=0, y=0):\n",
    "            print(\"Origin\")\n",
    "        case Point(x=0, y=y1): # tham số y nhận vào là một giá trị bất kì, biến y1 sẽ nhận giá trị tùy ý\n",
    "            print(f\"y={y1}\")\n",
    "        case Point(x=x1, y=0): # tham số x nhận vào là một giá trị bất kì, biến x1 sẽ nhận giá trị tùy ý\n",
    "            print(f\"x={x1}\")\n",
    "        case Point(x=x, y=y) if x == y: # thêm if để tạo điều kiện thêm sau match, thường sử dụng cho 2 case giống nhau\n",
    "            print(f\"Y=X at {x}\")\n",
    "        case Point(x=x1, y=y1):\n",
    "            print(\"Somewhere else\")\n",
    "        case _:\n",
    "            print(\"Not a point\")"
   ]
  },
  {
   "cell_type": "code",
   "execution_count": 125,
   "id": "4b9113b8",
   "metadata": {},
   "outputs": [
    {
     "name": "stdout",
     "output_type": "stream",
     "text": [
      "Origin\n"
     ]
    }
   ],
   "source": [
    "where_is(Point(x=0, y=0))"
   ]
  },
  {
   "cell_type": "code",
   "execution_count": 126,
   "id": "69ac1820",
   "metadata": {},
   "outputs": [
    {
     "name": "stdout",
     "output_type": "stream",
     "text": [
      "y=1\n"
     ]
    }
   ],
   "source": [
    "where_is(Point(x=0, y=1))"
   ]
  },
  {
   "cell_type": "code",
   "execution_count": 127,
   "id": "e51bd3c8",
   "metadata": {},
   "outputs": [
    {
     "name": "stdout",
     "output_type": "stream",
     "text": [
      "Y=X at 1\n"
     ]
    }
   ],
   "source": [
    "where_is(Point(x=1, y=1))"
   ]
  },
  {
   "cell_type": "markdown",
   "id": "4e56b5aa",
   "metadata": {},
   "source": [
    "Ta có thể thực hiện `match` trên một list các phần tử tùy ý"
   ]
  },
  {
   "cell_type": "code",
   "execution_count": 129,
   "id": "30f084f9",
   "metadata": {},
   "outputs": [
    {
     "name": "stdout",
     "output_type": "stream",
     "text": [
      "Two the Y axis at 2, 3\n"
     ]
    }
   ],
   "source": [
    "points = [Point(0, 2), Point(0, 3)]\n",
    "match points:\n",
    "    case[]:\n",
    "        print(\"no points\")\n",
    "    case [Point(0, 0)]:\n",
    "        print(\"the origin\")\n",
    "    case [Point(x, y)]:\n",
    "        print(f\"Single point {x}, {y})\")\n",
    "    case [Point(x=0, y=y1), Point(x=0, y=y2)]:\n",
    "        print(f\"Two the Y axis at {y1}, {y2}\")\n",
    "    case _:\n",
    "        print(\"something else\")"
   ]
  },
  {
   "cell_type": "markdown",
   "id": "7006978f",
   "metadata": {},
   "source": [
    "Ngoài ra, ở các `case` có thể sử dụng các biến `*` và `**` nếu ta không biết số lượng tham số để thêm vào\n",
    "`[x, y, *rest]`, `(x, y, *rest)`, "
   ]
  },
  {
   "cell_type": "markdown",
   "id": "90bba18f",
   "metadata": {},
   "source": [
    "Các patterns có thể sử dụng các hằng số constants như chuỗi string"
   ]
  },
  {
   "cell_type": "code",
   "execution_count": 3,
   "id": "817401e8",
   "metadata": {},
   "outputs": [
    {
     "name": "stdout",
     "output_type": "stream",
     "text": [
      "Please your favourite color : red\n",
      "I see red\n"
     ]
    }
   ],
   "source": [
    "from enum import Enum\n",
    "class Color(Enum):\n",
    "    RED = 'red'\n",
    "    GREEN = 'green'\n",
    "    BLUE = 'blue'\n",
    "    \n",
    "color = Color(input(\"Please your favourite color : \"))\n",
    "\n",
    "match color:\n",
    "    case Color.RED:\n",
    "        print(\"I see red\")\n",
    "    case Color.BLUE:\n",
    "        print(\"I see blue\")\n",
    "    case Color.GREEN:\n",
    "        print(\"I see green\")"
   ]
  },
  {
   "cell_type": "markdown",
   "id": "1be33149",
   "metadata": {},
   "source": [
    "# 4.7 Defining Functions"
   ]
  },
  {
   "cell_type": "code",
   "execution_count": 5,
   "id": "be033d4d",
   "metadata": {},
   "outputs": [
    {
     "name": "stdout",
     "output_type": "stream",
     "text": [
      "0 1 1 2 3 5 8 13 21 34 55 89 144 233 377 610 987 1597 \n"
     ]
    }
   ],
   "source": [
    "def fib(n):\n",
    "    \"\"\"Print a Fibonnaci series up to n\"\"\" # docstring\n",
    "    a, b = 0, 1\n",
    "    while a < n:\n",
    "        print(a, end = ' ')\n",
    "        a, b = b, a + b\n",
    "    print()\n",
    "fib(2000)"
   ]
  },
  {
   "cell_type": "markdown",
   "id": "13bae886",
   "metadata": {},
   "source": [
    "Keyword `def` giúp dẫn dắt bước vào định nghĩa 1 hàm function. Ta sẽ có function name và danh sách các tham số nằm trong dấu ngoặc tròn `()`\n",
    "\n",
    "Docstring là documentation string, giúp ta có thể tạo ra 1 nội dung rõ ràng của một câu hàm thông qua việc gọi help()"
   ]
  },
  {
   "cell_type": "markdown",
   "id": "ae6fbaca",
   "metadata": {},
   "source": [
    "Sử dụng các keyword gồm : `global`, `non local` để tạo nên phạm vi của các biến khi dùng trong hàm, hoặc hàm trong hàm\n",
    "\n",
    "Dùng biến global trong một hàm thì phải khai báo keyword `global`\n",
    "\n",
    "Dùng biến non local của hàm trong hàm thì phải khai báo keyword `non local`"
   ]
  },
  {
   "cell_type": "code",
   "execution_count": 6,
   "id": "8d69b79c",
   "metadata": {},
   "outputs": [
    {
     "name": "stdout",
     "output_type": "stream",
     "text": [
      "[0, 1, 1, 2, 3, 5, 8, 13, 21, 34, 55, 89]\n"
     ]
    }
   ],
   "source": [
    "def fib2(n):\n",
    "    \"\"\"Return a list containing the Fibonnaci series up to n\"\"\"\n",
    "    result = []\n",
    "    a, b = 0, 1\n",
    "    while a < n:\n",
    "        result.append(a)\n",
    "        a, b = b, a + b\n",
    "    return result\n",
    "f100 = fib2(100)\n",
    "print(f100)"
   ]
  },
  {
   "cell_type": "markdown",
   "id": "4ccea7e0",
   "metadata": {},
   "source": [
    "Statement `return` trong Python luôn trả về một giá trị. Nếu không có expression, thì mặc định trả về `None`, hoặc cho đến cuối hàm không sử dụng return thì trả về `None`"
   ]
  },
  {
   "cell_type": "markdown",
   "id": "c6c0881c",
   "metadata": {},
   "source": [
    "# 4.8 More on Defining Functions"
   ]
  },
  {
   "cell_type": "markdown",
   "id": "a3e1c703",
   "metadata": {},
   "source": [
    "Có thể định nghĩa một hàm với nhiều tham biến"
   ]
  },
  {
   "cell_type": "markdown",
   "id": "33b2522e",
   "metadata": {},
   "source": [
    "## 4.8.1 Default Argument Values"
   ]
  },
  {
   "cell_type": "code",
   "execution_count": 10,
   "id": "5b89df5f",
   "metadata": {},
   "outputs": [],
   "source": [
    "def ask_ok(prompt, retries=4, reminder=\"Please try again\"):\n",
    "    while True:\n",
    "        ok = input(prompt)\n",
    "        if ok in ('y', 'yes'):\n",
    "            return True\n",
    "        if ok in ('n', 'no'):\n",
    "            return False\n",
    "        retries -= 1\n",
    "        if retries < 0:\n",
    "            raise ValueError(\"invalid user response\")\n",
    "        print(reminder)"
   ]
  },
  {
   "cell_type": "code",
   "execution_count": 11,
   "id": "48c54e8e",
   "metadata": {},
   "outputs": [
    {
     "name": "stdout",
     "output_type": "stream",
     "text": [
      "OK to overwrite the file?y\n"
     ]
    },
    {
     "data": {
      "text/plain": [
       "True"
      ]
     },
     "execution_count": 11,
     "metadata": {},
     "output_type": "execute_result"
    }
   ],
   "source": [
    "ask_ok('OK to overwrite the file?', 2, 'Come on, only yes or no!')\n"
   ]
  },
  {
   "cell_type": "code",
   "execution_count": 12,
   "id": "95a5842d",
   "metadata": {},
   "outputs": [
    {
     "name": "stdout",
     "output_type": "stream",
     "text": [
      "5\n"
     ]
    }
   ],
   "source": [
    "i = 5\n",
    "def f(arg=i):\n",
    "    print(arg)\n",
    "i = 6\n",
    "f()"
   ]
  },
  {
   "cell_type": "markdown",
   "id": "656b9933",
   "metadata": {},
   "source": [
    "Các giá trị mặc định cho các biến được đánh giá một lần ngay các vị trí định nghĩa hàm. Trừ trường hợp, ta set mặc định các tham số là list, dictionary, hoặc instances của đa số các classes"
   ]
  },
  {
   "cell_type": "code",
   "execution_count": 13,
   "id": "f8b33386",
   "metadata": {},
   "outputs": [
    {
     "name": "stdout",
     "output_type": "stream",
     "text": [
      "[1]\n",
      "[1, 2]\n",
      "[1, 2, 3]\n"
     ]
    }
   ],
   "source": [
    "def f(a, L=[]):\n",
    "    L.append(a)\n",
    "    return L\n",
    "print(f(1))\n",
    "print(f(2))\n",
    "print(f(3))"
   ]
  },
  {
   "cell_type": "markdown",
   "id": "f78c6a96",
   "metadata": {},
   "source": [
    "Hoặc nếu ta không muốn share giá trị L qua từng đợt call liên tiếp, ta có thể viết như sau:"
   ]
  },
  {
   "cell_type": "code",
   "execution_count": 15,
   "id": "57e02352",
   "metadata": {},
   "outputs": [
    {
     "name": "stdout",
     "output_type": "stream",
     "text": [
      "[1]\n",
      "[2]\n",
      "[3]\n"
     ]
    }
   ],
   "source": [
    "def f(a, L=None):\n",
    "    if L is None:\n",
    "        L = []\n",
    "    L.append(a)\n",
    "    return L\n",
    "print(f(1))\n",
    "print(f(2))\n",
    "print(f(3))"
   ]
  },
  {
   "cell_type": "markdown",
   "id": "08319c07",
   "metadata": {},
   "source": [
    "## 4.8.2 Keywords Arguments"
   ]
  },
  {
   "cell_type": "markdown",
   "id": "85b47094",
   "metadata": {},
   "source": [
    "Các hàm có thể được gọi thông qua cách dùng `Keywords Arguments`. Ví dụ, như:"
   ]
  },
  {
   "cell_type": "code",
   "execution_count": 17,
   "id": "43a52df9",
   "metadata": {},
   "outputs": [
    {
     "name": "stdout",
     "output_type": "stream",
     "text": [
      "-- This parrot wouldn't voom if you put a thousand volts through it.\n",
      "-- Lovely plumage, the Norwegian Blue\n",
      "-- It's pushing up the daisies !\n"
     ]
    }
   ],
   "source": [
    "def parrot(voltage, state='a stiff', action='voom', type='Norwegian Blue'):\n",
    "    print(\"-- This parrot wouldn't\", action, end=' ')\n",
    "    print(\"if you put\", voltage, \"volts through it.\")\n",
    "    print(\"-- Lovely plumage, the\", type)\n",
    "    print(\"-- It's\", state, \"!\")\n",
    "# parrot(1000)                                          # 1 positional argument\n",
    "# parrot(voltage=1000)                                  # 1 keyword argument\n",
    "# parrot(voltage=1000000, action='VOOOOOM')             # 2 keyword arguments\n",
    "# parrot(action='VOOOOOM', voltage=1000000)             # 2 keyword arguments\n",
    "# parrot('a million', 'bereft of life', 'jump')         # 3 positional arguments\n",
    "parrot('a thousand', state='pushing up the daisies')  # 1 positional, 1 keyword"
   ]
  },
  {
   "cell_type": "markdown",
   "id": "4990ef7a",
   "metadata": {},
   "source": [
    "Trong một function call, các `keywork arguments` khi sử dụng, thì không cần dùng đến positional arguments. Tất không cần đặt đúng vị trí ordered theo như ta định nghĩa các tham số của hàm"
   ]
  },
  {
   "cell_type": "markdown",
   "id": "f13504a0",
   "metadata": {},
   "source": [
    "`*name` : được dùng ở trong định nghĩa tham số, khi ta không biết trước được số lượng tham số đầu vào của hàm ở thời điểm định nghĩa. `*name` sẽ nhận tất cả giá trị tham số sau đó và lưu tất cả vào tuple khi sử dụng"
   ]
  },
  {
   "cell_type": "markdown",
   "id": "b09dbb85",
   "metadata": {},
   "source": [
    "`**name`: được dùng ở trong định nghĩa tham số, khi ta không biết trước được  số lượng tham số của hàm ở thời điểm định nghĩa. `**name` sẽ nhận tất cả giá trị tham số sau đó và lưu tất cả vào dict khi sử dụng"
   ]
  },
  {
   "cell_type": "code",
   "execution_count": 18,
   "id": "912afd76",
   "metadata": {},
   "outputs": [
    {
     "name": "stdout",
     "output_type": "stream",
     "text": [
      "-- Do you have any Limburger ?\n",
      "-- I'm sorry, we're all out of Limburger\n",
      "It's very runny, sir.\n",
      "It's really very, VERY runny, sir.\n",
      "----------------------------------------\n",
      "shopkeeper : Michael Palin\n",
      "client : John Cleese\n",
      "sketch : Cheese Shop Sketch\n"
     ]
    }
   ],
   "source": [
    "def cheeseshop(kind, *arguments, **keywords):\n",
    "    print(\"-- Do you have any\", kind, \"?\")\n",
    "    print(\"-- I'm sorry, we're all out of\", kind)\n",
    "    for arg in arguments:\n",
    "        print(arg)\n",
    "    print(\"-\" * 40)\n",
    "    for kw in keywords:\n",
    "        print(kw, \":\", keywords[kw])\n",
    "        \n",
    "cheeseshop(\"Limburger\", \"It's very runny, sir.\",\n",
    "           \"It's really very, VERY runny, sir.\",\n",
    "           shopkeeper=\"Michael Palin\",\n",
    "           client=\"John Cleese\",\n",
    "           sketch=\"Cheese Shop Sketch\")"
   ]
  },
  {
   "cell_type": "markdown",
   "id": "58029f20",
   "metadata": {},
   "source": [
    "## 4.8.3 Special parameteres"
   ]
  },
  {
   "cell_type": "markdown",
   "id": "f3e36724",
   "metadata": {},
   "source": [
    "Mặc định, các tham số sẽ được phân tích trong các hàm Python theo vị trí hoặc keyword. Nhưng đôi khi vì mục đích dê đọc và hiệu năng cao, thì ta có thể tạo ràng buộc hạn chế tham số nào là positional parameters, tham số nào là keywork parameters"
   ]
  },
  {
   "cell_type": "markdown",
   "id": "a067da20",
   "metadata": {},
   "source": [
    "```\n",
    "def f(pos1, pos2, /, pos_or_kwd, *, kwd1, kwd2):\n",
    "      -----------    ----------     ----------\n",
    "        |             |                  |\n",
    "        |        Positional or keyword   |\n",
    "        |                                - Keyword only\n",
    "         -- Positional only\n",
    "```"
   ]
  },
  {
   "cell_type": "markdown",
   "id": "db9b4a97",
   "metadata": {},
   "source": [
    "Sử dụng ký hiệu đặc biệt `/` để xác định các biến phía trước là Positional-Only Parameters\n",
    "\n",
    "Sử dụng ký hiệu đặc biệt `*` để xác định các biến phía trước là Keyword-Only Arguments"
   ]
  },
  {
   "cell_type": "markdown",
   "id": "099ad2c4",
   "metadata": {},
   "source": [
    "```\n",
    "def f(pos1, pos2, /, pos_or_kwd, *, kwd1, kwd2):\n",
    "```"
   ]
  },
  {
   "cell_type": "markdown",
   "id": "1ba147b8",
   "metadata": {},
   "source": [
    "Sử dụng positional only parameters khi ta muốn người dùng không quan tâm tên cac tham số, ta muốn thúc đẩy việc sử dụng function thông qua vị trí biến\n",
    "\n",
    "Sử dụng keywork only parameters khi ta muốn người dùng quan tâm tên biến, hiểu được nghĩa tên biến"
   ]
  },
  {
   "cell_type": "markdown",
   "id": "0146708d",
   "metadata": {},
   "source": [
    "## 4.8.4 Arbitrary Argument Lists"
   ]
  },
  {
   "cell_type": "markdown",
   "id": "42e1b352",
   "metadata": {},
   "source": [
    "Sử dụng một function có thể nhận một số lượng tham số bất kỳ thông qua việc dùng `*args`, các tham số này được lưu ở dạng tuple\n",
    "\n",
    "Ta có thể sử dụng `args` như một biến tuple lưu các tham số tùy ý của một hàm"
   ]
  },
  {
   "cell_type": "code",
   "execution_count": 20,
   "id": "5b484987",
   "metadata": {},
   "outputs": [
    {
     "data": {
      "text/plain": [
       "'earth.mars.venus'"
      ]
     },
     "execution_count": 20,
     "metadata": {},
     "output_type": "execute_result"
    }
   ],
   "source": [
    "def concat(*args, sep=\"/\"):\n",
    "    return sep.join(args)\n",
    "\n",
    "concat(\"earth\", \"mars\", \"venus\", sep=\".\")"
   ]
  },
  {
   "cell_type": "markdown",
   "id": "b07d4edd",
   "metadata": {},
   "source": [
    "## 4.8.5 Unpacking Argument Lists"
   ]
  },
  {
   "cell_type": "markdown",
   "id": "a284f2dc",
   "metadata": {},
   "source": [
    "Sử dụng keyword với `**args` để lưu số lượng biến tùy ý ở dạng dictionary"
   ]
  },
  {
   "cell_type": "code",
   "execution_count": 23,
   "id": "5b27185a",
   "metadata": {},
   "outputs": [
    {
     "name": "stdout",
     "output_type": "stream",
     "text": [
      "-- This parrot wouldn't VOOM if you put four million volts through it. E's bleedin' demised !\n"
     ]
    }
   ],
   "source": [
    "def parrot(voltage, state='a stiff', action='voom'):\n",
    "    print(\"-- This parrot wouldn't\", action, end=' ')\n",
    "    print(\"if you put\", voltage, \"volts through it.\", end=' ')\n",
    "    print(\"E's\", state, \"!\")\n",
    "    \n",
    "d = {\"voltage\": \"four million\", \"state\": \"bleedin' demised\", \"action\": \"VOOM\"}\n",
    "parrot(**d)"
   ]
  },
  {
   "cell_type": "markdown",
   "id": "77cf9d5a",
   "metadata": {},
   "source": [
    "## 4.8.6 Lambda Expressions"
   ]
  },
  {
   "cell_type": "markdown",
   "id": "7e42d52f",
   "metadata": {},
   "source": [
    "Các hàm vô danh sử dụng keyword `lambda`. Hàm vô danh có thể được sử dụng để làm function objects (đối tượng hàm)\n",
    "\n",
    "Giống việc định nghĩa hàm trong hàm, lambda functions có thể tham chiếu tới các biến:"
   ]
  },
  {
   "cell_type": "code",
   "execution_count": 24,
   "id": "47d00894",
   "metadata": {},
   "outputs": [
    {
     "data": {
      "text/plain": [
       "20"
      ]
     },
     "execution_count": 24,
     "metadata": {},
     "output_type": "execute_result"
    }
   ],
   "source": [
    "def make_incrementor(n):\n",
    "    return lambda x: x + n\n",
    "\n",
    "f= make_incrementor(15)\n",
    "f(5)"
   ]
  },
  {
   "cell_type": "code",
   "execution_count": 33,
   "id": "46ddd743",
   "metadata": {},
   "outputs": [
    {
     "name": "stdout",
     "output_type": "stream",
     "text": [
      "[(4, 'four'), (1, 'one'), (3, 'three'), (2, 'two')]\n"
     ]
    }
   ],
   "source": [
    "pairs = list(enumerate(['one', 'two', 'three', 'four'], start=1))\n",
    "pairs.sort(key = lambda pair: pair[1])\n",
    "print(pairs)"
   ]
  },
  {
   "cell_type": "code",
   "execution_count": null,
   "id": "4430d825",
   "metadata": {},
   "outputs": [],
   "source": []
  },
  {
   "cell_type": "code",
   "execution_count": null,
   "id": "0ff1eb36",
   "metadata": {},
   "outputs": [],
   "source": []
  }
 ],
 "metadata": {
  "kernelspec": {
   "display_name": "Python 3 (ipykernel)",
   "language": "python",
   "name": "python3"
  },
  "language_info": {
   "codemirror_mode": {
    "name": "ipython",
    "version": 3
   },
   "file_extension": ".py",
   "mimetype": "text/x-python",
   "name": "python",
   "nbconvert_exporter": "python",
   "pygments_lexer": "ipython3",
   "version": "3.10.5"
  }
 },
 "nbformat": 4,
 "nbformat_minor": 5
}
