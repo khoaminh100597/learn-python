{
 "cells": [
  {
   "cell_type": "markdown",
   "id": "5d2769e6",
   "metadata": {},
   "source": [
    "# 7.1 Fancier Output Formatting"
   ]
  },
  {
   "cell_type": "markdown",
   "id": "b79a42d9",
   "metadata": {},
   "source": [
    "Sử dụng `formatted string literals`, cách thức thêm chữ `f` hoặc `F` phía trước dấu quotation\n",
    "\n",
    "Ta có thể viết các biến của Python nằm bên trong dấu { và }"
   ]
  },
  {
   "cell_type": "code",
   "execution_count": 2,
   "id": "ff3c7ce6",
   "metadata": {},
   "outputs": [
    {
     "name": "stdout",
     "output_type": "stream",
     "text": [
      "Results of 2016 Referendum\n"
     ]
    }
   ],
   "source": [
    "year = 2016\n",
    "event = \"Referendum\"\n",
    "print(f'Results of {year} {event}')"
   ]
  },
  {
   "cell_type": "markdown",
   "id": "98840087",
   "metadata": {},
   "source": [
    "Cách thức 2 dùng `str.format()` method, ta có thể bỏ index vào dấu { và }"
   ]
  },
  {
   "cell_type": "code",
   "execution_count": 19,
   "id": "f96cfe61",
   "metadata": {},
   "outputs": [
    {
     "name": "stdout",
     "output_type": "stream",
     "text": [
      "49.73%\n"
     ]
    }
   ],
   "source": [
    "yes_votes = 42672654\n",
    "no_votes = 43132495\n",
    "percentage = yes_votes / (yes_votes + no_votes)\n",
    "print('{:.2%}'.format(percentage))"
   ]
  },
  {
   "cell_type": "code",
   "execution_count": 23,
   "id": "19e2db8a",
   "metadata": {},
   "outputs": [
    {
     "name": "stdout",
     "output_type": "stream",
     "text": [
      "19.43\n",
      "1943.24%\n"
     ]
    }
   ],
   "source": [
    "print('{:.2f}'.format(19.4324234))\n",
    "print('{:.2%}'.format(19.4324234))"
   ]
  },
  {
   "cell_type": "markdown",
   "id": "8e76974a",
   "metadata": {},
   "source": [
    "`str()` function trả về biểu thị giá trị mà người có khả năng đọc được\n",
    "\n",
    "`repr()` function trả về biểu thị giá trị mà interpreter đọc\n",
    "\n",
    "Nếu không có chỉ rõ representation nào cho người, thì thông thường hàm `str()` trả về giá trị giống `repr()`. VD : lists, dictionaries, numbers...\n",
    "\n",
    "Ngược lại với string thì `repr()` và `str()` trả về giá trị khác nhau"
   ]
  },
  {
   "cell_type": "code",
   "execution_count": 24,
   "id": "d1c91028",
   "metadata": {},
   "outputs": [
    {
     "data": {
      "text/plain": [
       "\"'Hello Wolrd'\""
      ]
     },
     "execution_count": 24,
     "metadata": {},
     "output_type": "execute_result"
    }
   ],
   "source": [
    "s = \"Hello Wolrd\"\n",
    "repr(s)"
   ]
  },
  {
   "cell_type": "code",
   "execution_count": 25,
   "id": "f38167d3",
   "metadata": {},
   "outputs": [
    {
     "data": {
      "text/plain": [
       "'Hello Wolrd'"
      ]
     },
     "execution_count": 25,
     "metadata": {},
     "output_type": "execute_result"
    }
   ],
   "source": [
    "str(s)"
   ]
  },
  {
   "cell_type": "code",
   "execution_count": 26,
   "id": "0825ceec",
   "metadata": {},
   "outputs": [
    {
     "data": {
      "text/plain": [
       "'1'"
      ]
     },
     "execution_count": 26,
     "metadata": {},
     "output_type": "execute_result"
    }
   ],
   "source": [
    "repr(1)"
   ]
  },
  {
   "cell_type": "code",
   "execution_count": 27,
   "id": "49d36989",
   "metadata": {},
   "outputs": [
    {
     "data": {
      "text/plain": [
       "'1'"
      ]
     },
     "execution_count": 27,
     "metadata": {},
     "output_type": "execute_result"
    }
   ],
   "source": [
    "str(1)"
   ]
  },
  {
   "cell_type": "markdown",
   "id": "81d039ef",
   "metadata": {},
   "source": [
    "## 7.1.1 Formatted String Literals"
   ]
  },
  {
   "cell_type": "markdown",
   "id": "e5865cfb",
   "metadata": {},
   "source": [
    "Ta có thể format các expression trong { và } như sau"
   ]
  },
  {
   "cell_type": "code",
   "execution_count": 33,
   "id": "a41cfd64",
   "metadata": {},
   "outputs": [
    {
     "name": "stdout",
     "output_type": "stream",
     "text": [
      "The value of pi is approximately 3.142\n"
     ]
    }
   ],
   "source": [
    "# Take round pi to three place after decimal\n",
    "import math\n",
    "print(f'The value of pi is approximately {math.pi:.3f}')"
   ]
  },
  {
   "cell_type": "code",
   "execution_count": 36,
   "id": "43110877",
   "metadata": {},
   "outputs": [
    {
     "name": "stdout",
     "output_type": "stream",
     "text": [
      "Sjoerd     ==>       4127\n",
      "Jack       ==>       4098\n",
      "Dcab       ==>       7678\n"
     ]
    }
   ],
   "source": [
    "# Passng an integer after : will cause that field to be a minimum number of characters wide\n",
    "table = {'Sjoerd': 4127, 'Jack': 4098, 'Dcab': 7678}\n",
    "for name, phone in table.items():\n",
    "    print(f'{name:10} ==> {phone:10d}')"
   ]
  },
  {
   "cell_type": "markdown",
   "id": "760cbc66",
   "metadata": {},
   "source": [
    "## 7.1.2 The String format() Method"
   ]
  },
  {
   "cell_type": "code",
   "execution_count": 37,
   "id": "0379d046",
   "metadata": {},
   "outputs": [
    {
     "name": "stdout",
     "output_type": "stream",
     "text": [
      "We are the knights who say \"Ni!\"\n"
     ]
    }
   ],
   "source": [
    "# basic usage of the str.format()\n",
    "print('We are the {} who say \"{}!\"'.format('knights', 'Ni'))"
   ]
  },
  {
   "cell_type": "code",
   "execution_count": 39,
   "id": "960f4439",
   "metadata": {},
   "outputs": [
    {
     "name": "stdout",
     "output_type": "stream",
     "text": [
      "eggs and spam\n",
      "spam and eggs\n"
     ]
    }
   ],
   "source": [
    "# A number in the brackets can be used to refer to the position of the object passed into the str.format() method.\n",
    "print(\"{1} and {0}\".format(\"spam\", \"eggs\"))\n",
    "print(\"{0} and {1}\".format(\"spam\", \"eggs\"))"
   ]
  },
  {
   "cell_type": "code",
   "execution_count": 40,
   "id": "36e23d8c",
   "metadata": {},
   "outputs": [
    {
     "name": "stdout",
     "output_type": "stream",
     "text": [
      "3.232312e+00\n"
     ]
    }
   ],
   "source": [
    "print(f\"{3.2323123:e}\")"
   ]
  },
  {
   "cell_type": "code",
   "execution_count": 41,
   "id": "7b052cef",
   "metadata": {},
   "outputs": [
    {
     "name": "stdout",
     "output_type": "stream",
     "text": [
      "this spam is absolutely horrible\n"
     ]
    }
   ],
   "source": [
    "print(\"this {food} is {adjective}\".format(food=\"spam\", adjective=\"absolutely horrible\"))"
   ]
  },
  {
   "cell_type": "code",
   "execution_count": 43,
   "id": "f54d87f6",
   "metadata": {},
   "outputs": [
    {
     "name": "stdout",
     "output_type": "stream",
     "text": [
      "Jack: 4098; Sjoerd: 4127; Dcab: 8637678\n"
     ]
    }
   ],
   "source": [
    "table = {'Sjoerd': 4127, 'Jack': 4098, 'Dcab': 8637678}\n",
    "print(\"Jack: {0[Jack]:d}; Sjoerd: {0[Sjoerd]:d}; Dcab: {0[Dcab]:d}\".format(table))"
   ]
  },
  {
   "cell_type": "code",
   "execution_count": 44,
   "id": "5d57b507",
   "metadata": {},
   "outputs": [
    {
     "name": "stdout",
     "output_type": "stream",
     "text": [
      " 1   1    1\n",
      " 2   4    8\n",
      " 3   9   27\n",
      " 4  16   64\n",
      " 5  25  125\n",
      " 6  36  216\n",
      " 7  49  343\n",
      " 8  64  512\n",
      " 9  81  729\n",
      "10 100 1000\n"
     ]
    }
   ],
   "source": [
    "for x in range(1, 11):\n",
    "    print(\"{0:2d} {1:3d} {2:4d}\".format(x, x*x, x*x*x))"
   ]
  },
  {
   "cell_type": "markdown",
   "id": "28b198ac",
   "metadata": {},
   "source": [
    "## 7.1.3 Manual String Formatting"
   ]
  },
  {
   "cell_type": "code",
   "execution_count": 46,
   "id": "04b61ceb",
   "metadata": {},
   "outputs": [
    {
     "name": "stdout",
     "output_type": "stream",
     "text": [
      " 1   1    1\n",
      " 2   4    8\n",
      " 3   9   27\n",
      " 4  16   64\n",
      " 5  25  125\n",
      " 6  36  216\n",
      " 7  49  343\n",
      " 8  64  512\n",
      " 9  81  729\n",
      "10 100 1000\n"
     ]
    }
   ],
   "source": [
    "# Sử dụng rjust(), ljust() và center() methods của string để canh lề\n",
    "for x in range(1, 11):\n",
    "    print(str(x).rjust(2), str(x*x).rjust(3), str(x*x*x).rjust(4))"
   ]
  },
  {
   "cell_type": "markdown",
   "id": "f35016b8",
   "metadata": {},
   "source": [
    "# 7.2 Reading and Writing Files"
   ]
  },
  {
   "cell_type": "markdown",
   "id": "d7ae1a62",
   "metadata": {},
   "source": [
    "`open()` method trả về file object, `open()` nhận vào 3 tham biến gồm 2 positional arguments và 1 keyword arguemnt"
   ]
  },
  {
   "cell_type": "markdown",
   "id": "b0261f4a",
   "metadata": {},
   "source": [
    "```\n",
    "f = open('workfile', 'w', encoding='utf-8')\n",
    "```"
   ]
  },
  {
   "cell_type": "markdown",
   "id": "96119184",
   "metadata": {},
   "source": [
    "Có 4 keyword mode cho chế độ mở file:\n",
    "- `r`: chỉ đọc (mặc định cho tham số)\n",
    "- `w`: chỉ để ghi file, nếu có file tồn tại sẵn thì sẽ tạo file mới ghi đè lên\n",
    "- `a`: mở file để nối tiếp - appending thêm dữ liệu vào cuối file\n",
    "- `r+`: mở file đọc và ghi"
   ]
  },
  {
   "cell_type": "markdown",
   "id": "2e37567c",
   "metadata": {},
   "source": [
    "Nên tập sử dụng keyword `with` khi xử lý mở file. Ưu điểm là file object sẽ đóng lại sau khi đã kết thúc sử dụng (thoát ra khỏi with)"
   ]
  },
  {
   "cell_type": "code",
   "execution_count": 49,
   "id": "ed44575f",
   "metadata": {},
   "outputs": [
    {
     "data": {
      "text/plain": [
       "True"
      ]
     },
     "execution_count": 49,
     "metadata": {},
     "output_type": "execute_result"
    }
   ],
   "source": [
    "with open(\"fibo.py\", \"r\", encoding=\"utf-8\") as f:\n",
    "    read_data = f.read() # đọc dữ liệu qua f.read()\n",
    "\n",
    "# We can check that the file has been automatically closed\n",
    "f.closed"
   ]
  },
  {
   "cell_type": "markdown",
   "id": "9c9d388a",
   "metadata": {},
   "source": [
    "Nếu ta không sử dụng `with` thì phải dùng method `f.close()` sau khi đã dùng xong file"
   ]
  },
  {
   "cell_type": "markdown",
   "id": "8dec2cb8",
   "metadata": {},
   "source": [
    "## 7.2.1 Methods of File Objects"
   ]
  },
  {
   "cell_type": "code",
   "execution_count": 1,
   "id": "eb62c39e",
   "metadata": {},
   "outputs": [
    {
     "name": "stdout",
     "output_type": "stream",
     "text": [
      "def fib(n):    # write Fibonacci series up to n\n",
      "    a, b = 0, 1\n",
      "    while a < n:\n",
      "        print(a, end=' ')\n",
      "        a, b = b, a+b\n",
      "    print()\n",
      "\n",
      "def fib2(n):   # return Fibonacci series up to n\n",
      "    result = []\n",
      "    a, b = 0, 1\n",
      "    while a < n:\n",
      "        result.append(a)\n",
      "        a, b = b, a+b\n",
      "    return result\n",
      "\n",
      "if __name__ == \"__main__\":\n",
      "    import sys\n",
      "    fib(int(sys.argv[1]))\n"
     ]
    }
   ],
   "source": [
    "# Ta có thể call f.read(size) với size là số bất kỳ, numeric argument, giúp ta hạn chế bớt số lượng characters hay số lượng byte được đọc và trả về. Dùng cho trường hợp ít memory\n",
    "with open(\"fibo.py\", \"r\", encoding=\"utf-8\") as f:\n",
    "    read_data = f.read()\n",
    "    print(read_data)\n"
   ]
  },
  {
   "cell_type": "markdown",
   "id": "5dc9c942",
   "metadata": {},
   "source": [
    "Sử dụng `f.readline()` để đọc từng dòng trong file, và trả về kết quả là dòng đó, cuối dòng sẽ là newline character `\\n`"
   ]
  },
  {
   "cell_type": "code",
   "execution_count": 5,
   "id": "c3bd1dcf",
   "metadata": {},
   "outputs": [
    {
     "name": "stdout",
     "output_type": "stream",
     "text": [
      "def fib(n):    # write Fibonacci series up to n\n",
      "\n",
      "    a, b = 0, 1\n",
      "\n"
     ]
    }
   ],
   "source": [
    "with open(\"fibo.py\", \"r\", encoding=\"utf-8\") as f:\n",
    "    print(f.readline())\n",
    "    print(f.readline())"
   ]
  },
  {
   "cell_type": "markdown",
   "id": "3195c730",
   "metadata": {},
   "source": [
    "Ngoài ra để đọc các lines từ một file, ta có thể tạo vòng lặp cho file object. Đây là cách giúp memory hiệu quả, nhanh và dẫn đến simple code"
   ]
  },
  {
   "cell_type": "code",
   "execution_count": 8,
   "id": "a31a817d",
   "metadata": {},
   "outputs": [
    {
     "name": "stdout",
     "output_type": "stream",
     "text": [
      "def fib(n):    # write Fibonacci series up to n\n",
      "    a, b = 0, 1\n",
      "    while a < n:\n",
      "        print(a, end=' ')\n",
      "        a, b = b, a+b\n",
      "    print()\n",
      "\n",
      "def fib2(n):   # return Fibonacci series up to n\n",
      "    result = []\n",
      "    a, b = 0, 1\n",
      "    while a < n:\n",
      "        result.append(a)\n",
      "        a, b = b, a+b\n",
      "    return result\n",
      "\n",
      "if __name__ == \"__main__\":\n",
      "    import sys\n",
      "    fib(int(sys.argv[1]))"
     ]
    }
   ],
   "source": [
    "with open(\"fibo.py\", \"r\", encoding=\"utf-8\") as f:\n",
    "    for line in f:\n",
    "        print(line, end='')"
   ]
  },
  {
   "cell_type": "markdown",
   "id": "a7abfbe1",
   "metadata": {},
   "source": [
    "Nếu ta muốn đọc tất cả lines trong file, thì ta dùng `list(f)` hoặc `f.readlines()`"
   ]
  },
  {
   "cell_type": "code",
   "execution_count": 11,
   "id": "6cf6b7e2",
   "metadata": {},
   "outputs": [
    {
     "name": "stdout",
     "output_type": "stream",
     "text": [
      "def fib(n):    # write Fibonacci series up to n\n",
      "    a, b = 0, 1\n",
      "    while a < n:\n",
      "        print(a, end=' ')\n",
      "        a, b = b, a+b\n",
      "    print()\n",
      "\n",
      "def fib2(n):   # return Fibonacci series up to n\n",
      "    result = []\n",
      "    a, b = 0, 1\n",
      "    while a < n:\n",
      "        result.append(a)\n",
      "        a, b = b, a+b\n",
      "    return result\n",
      "\n",
      "if __name__ == \"__main__\":\n",
      "    import sys\n",
      "    fib(int(sys.argv[1]))"
     ]
    }
   ],
   "source": [
    "with open(\"fibo.py\", \"r\", encoding=\"utf-8\") as f:\n",
    "    data_read = f.readlines() # hoặc dùng list(f)\n",
    "for line in data_read: print(line, end='')"
   ]
  },
  {
   "cell_type": "markdown",
   "id": "f6e224f8",
   "metadata": {},
   "source": [
    "`f.write(string` viết nội dung của string vào file, trả về số lượng kí tượng được ghi"
   ]
  },
  {
   "cell_type": "code",
   "execution_count": 16,
   "id": "a31ae172",
   "metadata": {},
   "outputs": [],
   "source": [
    "with open(\"text.txt\", \"w+\", encoding=\"utf-8\") as f:\n",
    "    data_read = f.write(\"This is a text.\\n\")\n"
   ]
  },
  {
   "cell_type": "markdown",
   "id": "28ed05ad",
   "metadata": {},
   "source": [
    "## 7.2.2 Saving structured data with json"
   ]
  },
  {
   "cell_type": "markdown",
   "id": "abfb05f4",
   "metadata": {},
   "source": [
    "Nếu ta có một đối tượng x trong python, ta có thể xem định dạng Json của nó thông qua json.dumps()"
   ]
  },
  {
   "cell_type": "code",
   "execution_count": 19,
   "id": "535947b7",
   "metadata": {},
   "outputs": [
    {
     "name": "stdout",
     "output_type": "stream",
     "text": [
      "[1, \"simple\", \"list\"]\n"
     ]
    }
   ],
   "source": [
    "import json\n",
    "x = [1, 'simple', 'list']\n",
    "json.dumps(x)\n",
    "print(jsonx)"
   ]
  },
  {
   "cell_type": "markdown",
   "id": "33e63623",
   "metadata": {},
   "source": [
    "Ngoài ra, ta có thể dùng `json.dumps()`, mã hóa đối tượng thành một text file nhanh. Khi ta mở một file với tên tắt là f:"
   ]
  },
  {
   "cell_type": "markdown",
   "id": "c8485153",
   "metadata": {},
   "source": [
    "Một biến thể khác là `json.dump()` giúp ghi đối tượng vào file json nhanh"
   ]
  },
  {
   "cell_type": "code",
   "execution_count": 23,
   "id": "84f8402d",
   "metadata": {},
   "outputs": [],
   "source": [
    "with open(\"test.txt\", \"w\", encoding=\"utf-8\") as f:\n",
    "    json.dump(x, f)"
   ]
  },
  {
   "cell_type": "markdown",
   "id": "16e1ef33",
   "metadata": {},
   "source": [
    "Để decode đối tượng ngược lại, nếu f là binary file hoặc text file thì ta dùng:"
   ]
  },
  {
   "cell_type": "code",
   "execution_count": 24,
   "id": "8d0a6711",
   "metadata": {},
   "outputs": [
    {
     "name": "stdout",
     "output_type": "stream",
     "text": [
      "[1, 'simple', 'list']\n"
     ]
    }
   ],
   "source": [
    "with open(\"test.txt\", \"r\", encoding=\"utf-8\") as f:\n",
    "    x = json.load(f)\n",
    "print(x)"
   ]
  },
  {
   "cell_type": "code",
   "execution_count": null,
   "id": "5e4b466b",
   "metadata": {},
   "outputs": [],
   "source": []
  }
 ],
 "metadata": {
  "kernelspec": {
   "display_name": "Python 3 (ipykernel)",
   "language": "python",
   "name": "python3"
  },
  "language_info": {
   "codemirror_mode": {
    "name": "ipython",
    "version": 3
   },
   "file_extension": ".py",
   "mimetype": "text/x-python",
   "name": "python",
   "nbconvert_exporter": "python",
   "pygments_lexer": "ipython3",
   "version": "3.10.5"
  }
 },
 "nbformat": 4,
 "nbformat_minor": 5
}
