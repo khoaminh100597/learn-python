{
 "cells": [
  {
   "cell_type": "markdown",
   "id": "036780db",
   "metadata": {},
   "source": [
    "# 5.1 More on Lists"
   ]
  },
  {
   "cell_type": "markdown",
   "id": "a153b637",
   "metadata": {},
   "source": [
    "`list.`**append**(x): thêm một item vào cuối list"
   ]
  },
  {
   "cell_type": "code",
   "execution_count": 7,
   "id": "566356c9",
   "metadata": {},
   "outputs": [
    {
     "data": {
      "text/plain": [
       "[1]"
      ]
     },
     "execution_count": 7,
     "metadata": {},
     "output_type": "execute_result"
    }
   ],
   "source": [
    "l1 = []\n",
    "l1.append(1)\n",
    "l1"
   ]
  },
  {
   "cell_type": "markdown",
   "id": "08515152",
   "metadata": {},
   "source": [
    "`list.`**extend**(iterable): thêm một iterable chứa các items nối tiếp vào list"
   ]
  },
  {
   "cell_type": "code",
   "execution_count": 8,
   "id": "2fd83cd8",
   "metadata": {},
   "outputs": [
    {
     "data": {
      "text/plain": [
       "[1, 2, 3, 4, 5]"
      ]
     },
     "execution_count": 8,
     "metadata": {},
     "output_type": "execute_result"
    }
   ],
   "source": [
    "l1.extend([2, 3, 4, 5])\n",
    "l1"
   ]
  },
  {
   "cell_type": "markdown",
   "id": "338e59f9",
   "metadata": {},
   "source": [
    "`list.`**insert**(i, x): thêm một item vào vị trí xác định sẵn"
   ]
  },
  {
   "cell_type": "code",
   "execution_count": 9,
   "id": "cf7c1c29",
   "metadata": {},
   "outputs": [
    {
     "data": {
      "text/plain": [
       "[0, 1, 2, 3, 4, 5]"
      ]
     },
     "execution_count": 9,
     "metadata": {},
     "output_type": "execute_result"
    }
   ],
   "source": [
    "l1.insert(0, 0)\n",
    "l1"
   ]
  },
  {
   "cell_type": "code",
   "execution_count": 12,
   "id": "bc0a9642",
   "metadata": {},
   "outputs": [
    {
     "data": {
      "text/plain": [
       "[0, 1, 2, 3, 4, 5, 10, 10, 10]"
      ]
     },
     "execution_count": 12,
     "metadata": {},
     "output_type": "execute_result"
    }
   ],
   "source": [
    "l1.insert(6, 10)\n",
    "l1"
   ]
  },
  {
   "cell_type": "markdown",
   "id": "7b0821f0",
   "metadata": {},
   "source": [
    "`list.`**remove**(x): Xóa item có giá trị x đầu tiên tìm thấy của danh sách. Nếu kh6ong thấy item, sẽ phát sinh ValueError"
   ]
  },
  {
   "cell_type": "code",
   "execution_count": 14,
   "id": "3e6a90bd",
   "metadata": {},
   "outputs": [
    {
     "data": {
      "text/plain": [
       "[0, 1, 2, 3, 4, 5, 10]"
      ]
     },
     "execution_count": 14,
     "metadata": {},
     "output_type": "execute_result"
    }
   ],
   "source": [
    "l1.remove(10)\n",
    "l1"
   ]
  },
  {
   "cell_type": "markdown",
   "id": "5a11e3b3",
   "metadata": {},
   "source": [
    "`list.`**pop**([i]): xóa item tại vị trí index i, nếu ta sử dụng không index như `a.pop()` sẽ xóa item ở phần tử cuối cùng"
   ]
  },
  {
   "cell_type": "code",
   "execution_count": 15,
   "id": "25514d5d",
   "metadata": {},
   "outputs": [
    {
     "data": {
      "text/plain": [
       "[0, 1, 2, 3, 4, 5]"
      ]
     },
     "execution_count": 15,
     "metadata": {},
     "output_type": "execute_result"
    }
   ],
   "source": [
    "l1.pop()\n",
    "l1"
   ]
  },
  {
   "cell_type": "markdown",
   "id": "8b8ff284",
   "metadata": {},
   "source": [
    "`list.`**index**(x[, start[, end]]): tìm index của vị trí chứa giá trị x đầu tiên tìm thấy trong danh sách"
   ]
  },
  {
   "cell_type": "code",
   "execution_count": 20,
   "id": "85e221b7",
   "metadata": {},
   "outputs": [
    {
     "data": {
      "text/plain": [
       "3"
      ]
     },
     "execution_count": 20,
     "metadata": {},
     "output_type": "execute_result"
    }
   ],
   "source": [
    "l1.index(3, 1, 5)"
   ]
  },
  {
   "cell_type": "markdown",
   "id": "7e0229e8",
   "metadata": {},
   "source": [
    "`list.`**count**(x): trả về số lần xuất hiện của giá trị x trong list"
   ]
  },
  {
   "cell_type": "code",
   "execution_count": 25,
   "id": "979a21c0",
   "metadata": {},
   "outputs": [
    {
     "data": {
      "text/plain": [
       "1"
      ]
     },
     "execution_count": 25,
     "metadata": {},
     "output_type": "execute_result"
    }
   ],
   "source": [
    "l1.count(5)"
   ]
  },
  {
   "cell_type": "markdown",
   "id": "c2b7a9e0",
   "metadata": {},
   "source": [
    "`list.`**sort**(*, key=None, reverse=False)"
   ]
  },
  {
   "cell_type": "code",
   "execution_count": 29,
   "id": "a9b0c844",
   "metadata": {},
   "outputs": [
    {
     "data": {
      "text/plain": [
       "[(3, 'c'), (2, 'b'), (1, 'a')]"
      ]
     },
     "execution_count": 29,
     "metadata": {},
     "output_type": "execute_result"
    }
   ],
   "source": [
    "class Product:\n",
    "    def __init__(self, id, name):\n",
    "        self.id = id\n",
    "        self.name = name\n",
    "Products = [Product(1, 'a'), Product(2, 'b'), Product(3, 'c')]\n",
    "\n",
    "Products.sort(key=lambda x: x.id, reverse=True)\n",
    "[(product.id, product.name) for product in Products]"
   ]
  },
  {
   "cell_type": "markdown",
   "id": "36d13072",
   "metadata": {},
   "source": [
    "`list.`reverse(): nghịch đảo các phần tử trong danh sách list"
   ]
  },
  {
   "cell_type": "code",
   "execution_count": 30,
   "id": "974a60f7",
   "metadata": {},
   "outputs": [
    {
     "data": {
      "text/plain": [
       "[5, 4, 3, 2, 1, 0]"
      ]
     },
     "execution_count": 30,
     "metadata": {},
     "output_type": "execute_result"
    }
   ],
   "source": [
    "l1.reverse()\n",
    "l1"
   ]
  },
  {
   "cell_type": "markdown",
   "id": "59270d50",
   "metadata": {},
   "source": [
    "`list.`copy(): trả về một đối tượng copy từ list, tương tự `a[:]`"
   ]
  },
  {
   "cell_type": "code",
   "execution_count": 31,
   "id": "3f4bbe5d",
   "metadata": {},
   "outputs": [
    {
     "data": {
      "text/plain": [
       "[5, 4, 3, 2, 1, 0]"
      ]
     },
     "execution_count": 31,
     "metadata": {},
     "output_type": "execute_result"
    }
   ],
   "source": [
    "l1.copy()"
   ]
  },
  {
   "cell_type": "markdown",
   "id": "0c2f7aaf",
   "metadata": {},
   "source": [
    "## 5.1.1 Using Lists as Stacks"
   ]
  },
  {
   "cell_type": "markdown",
   "id": "37e34799",
   "metadata": {},
   "source": [
    "List sẽ được sử dụng giống một stack, hoặc động theo nguyên lý LIFO (Last in first out)\n",
    "\n",
    "Để thêm một item lên trên đỉnh stack, ta dùng `append()`\n",
    "\n",
    "Để xóa một item trên đỉnh stack, ta dùng `pop()`\n"
   ]
  },
  {
   "cell_type": "code",
   "execution_count": 33,
   "id": "57285b24",
   "metadata": {},
   "outputs": [
    {
     "data": {
      "text/plain": [
       "7"
      ]
     },
     "execution_count": 33,
     "metadata": {},
     "output_type": "execute_result"
    }
   ],
   "source": [
    "stack = [3, 4, 5]\n",
    "stack.append(6)\n",
    "stack.append(7)\n",
    "\n",
    "stack\n",
    "\n",
    "stack.pop()"
   ]
  },
  {
   "cell_type": "markdown",
   "id": "ebf8a4cf",
   "metadata": {},
   "source": [
    "## 5.1.2 Using List as Queues"
   ]
  },
  {
   "cell_type": "markdown",
   "id": "7cc0f1fb",
   "metadata": {},
   "source": [
    "Sử dụng `collections.deque` để tạo một queue, hoạt động theo nguyên lý FIFO (First in first out)"
   ]
  },
  {
   "cell_type": "code",
   "execution_count": 37,
   "id": "2665b957",
   "metadata": {},
   "outputs": [
    {
     "data": {
      "text/plain": [
       "deque(['Eric', 'John', 'Michael', 'Terry'])"
      ]
     },
     "execution_count": 37,
     "metadata": {},
     "output_type": "execute_result"
    }
   ],
   "source": [
    "from collections import deque\n",
    "\n",
    "queue = deque([\"Eric\", \"John\", \"Michael\"])\n",
    "queue.append(\"Terry\")\n",
    "queue"
   ]
  },
  {
   "cell_type": "code",
   "execution_count": 38,
   "id": "26b694a6",
   "metadata": {},
   "outputs": [
    {
     "data": {
      "text/plain": [
       "'Eric'"
      ]
     },
     "execution_count": 38,
     "metadata": {},
     "output_type": "execute_result"
    }
   ],
   "source": [
    "queue.popleft()"
   ]
  },
  {
   "cell_type": "code",
   "execution_count": 39,
   "id": "2573a0a6",
   "metadata": {},
   "outputs": [
    {
     "data": {
      "text/plain": [
       "deque(['John', 'Michael', 'Terry'])"
      ]
     },
     "execution_count": 39,
     "metadata": {},
     "output_type": "execute_result"
    }
   ],
   "source": [
    "queue"
   ]
  },
  {
   "cell_type": "markdown",
   "id": "f0295edf",
   "metadata": {},
   "source": [
    "## 5.1.3 List Comprehensions"
   ]
  },
  {
   "cell_type": "markdown",
   "id": "abbea34c",
   "metadata": {},
   "source": [
    "List comprehensions cung cấp một các tạo nhanh gọn các lists\n",
    "\n",
    "Các phần tử sẽ được thi triển qua loạt operations như nhau theo nguyên tắc thành viên của một chuỗi hoặc một iterable"
   ]
  },
  {
   "cell_type": "code",
   "execution_count": 44,
   "id": "89a16bb9",
   "metadata": {},
   "outputs": [
    {
     "data": {
      "text/plain": [
       "[0, 1, 4, 9, 16, 25, 36, 49, 64, 81]"
      ]
     },
     "execution_count": 44,
     "metadata": {},
     "output_type": "execute_result"
    }
   ],
   "source": [
    "squares = []\n",
    "\n",
    "squares = [x ** 2 for x in range(10)] # squares = list(map(lambda x: x**2, range(10)))\n",
    "\n",
    "squares"
   ]
  },
  {
   "cell_type": "markdown",
   "id": "a4784272",
   "metadata": {},
   "source": [
    "Một list comprehensions có thể chứa nhiều vòng lặp for"
   ]
  },
  {
   "cell_type": "code",
   "execution_count": 45,
   "id": "5bccf62e",
   "metadata": {},
   "outputs": [
    {
     "data": {
      "text/plain": [
       "[(1, 3), (1, 4), (2, 3), (2, 1), (2, 4), (3, 1), (3, 4)]"
      ]
     },
     "execution_count": 45,
     "metadata": {},
     "output_type": "execute_result"
    }
   ],
   "source": [
    "[(x, y) for x in [1, 2, 3] for y in [3, 1, 4] if x != y]"
   ]
  },
  {
   "cell_type": "markdown",
   "id": "bfa54d0a",
   "metadata": {},
   "source": [
    "Và điều này tương đương với\n",
    "```\n",
    "combs = []\n",
    "for x in [1,2,3]:\n",
    "    for y in [3,1,4]:\n",
    "        if x != y:\n",
    "            combs.append((x, y))\n",
    "```"
   ]
  },
  {
   "cell_type": "markdown",
   "id": "41c0301b",
   "metadata": {},
   "source": [
    "## 5.1.4 Nested List Comprehensions"
   ]
  },
  {
   "cell_type": "markdown",
   "id": "0c7b433b",
   "metadata": {},
   "source": [
    "Trong List Comprehensions, ta có thể sử dụng các expression khác, kể cả là một List Comprehensions khác"
   ]
  },
  {
   "cell_type": "code",
   "execution_count": 7,
   "id": "c86d34c0",
   "metadata": {},
   "outputs": [],
   "source": [
    "matrix = [\n",
    "    [1, 2, 3, 4],\n",
    "    [5, 6, 7, 8],\n",
    "    [9, 10, 11, 12]\n",
    "]"
   ]
  },
  {
   "cell_type": "code",
   "execution_count": 8,
   "id": "6e174428",
   "metadata": {},
   "outputs": [
    {
     "name": "stdout",
     "output_type": "stream",
     "text": [
      "[[1, 5, 9], [2, 6, 10], [3, 7, 11], [4, 8, 12]]\n"
     ]
    }
   ],
   "source": [
    "transposed = [[row[i] for row in matrix] for i in range(4)]\n",
    "print(transposed)"
   ]
  },
  {
   "cell_type": "markdown",
   "id": "4e0881d2",
   "metadata": {},
   "source": [
    "Ngoài ra, còn một cách khác lấy ra ma trận chuyển vị là dùng zip()"
   ]
  },
  {
   "cell_type": "code",
   "execution_count": 12,
   "id": "79229c86",
   "metadata": {},
   "outputs": [
    {
     "data": {
      "text/plain": [
       "[(1, 5, 9), (2, 6, 10), (3, 7, 11), (4, 8, 12)]"
      ]
     },
     "execution_count": 12,
     "metadata": {},
     "output_type": "execute_result"
    }
   ],
   "source": [
    "list(zip(*matrix))"
   ]
  },
  {
   "cell_type": "markdown",
   "id": "caa2fbaf",
   "metadata": {},
   "source": [
    "# 5.2 The del statement"
   ]
  },
  {
   "cell_type": "markdown",
   "id": "b8c55565",
   "metadata": {},
   "source": [
    "Có một cách khác loại bỏ một item hoặc slice các item cho một list là dùng del statement\n",
    "\n",
    "Khác với `pop()`, kết quả trả về giá trị bị loại bỏ. del statement sẽ không trả về giá trị nào cả\n",
    "\n",
    "del statement dùng để loại một item, slice các item, hoặc cả list\n"
   ]
  },
  {
   "cell_type": "code",
   "execution_count": 22,
   "id": "6dd02db9",
   "metadata": {},
   "outputs": [
    {
     "data": {
      "text/plain": [
       "[1, 66, 333, 323, 33, 1234]"
      ]
     },
     "execution_count": 22,
     "metadata": {},
     "output_type": "execute_result"
    }
   ],
   "source": [
    "a = [-1, 1, 66, 333, 323, 33, 1234]\n",
    "del a[0]\n",
    "a"
   ]
  },
  {
   "cell_type": "code",
   "execution_count": 23,
   "id": "50f169d9",
   "metadata": {},
   "outputs": [
    {
     "data": {
      "text/plain": [
       "[1, 66, 333, 1234]"
      ]
     },
     "execution_count": 23,
     "metadata": {},
     "output_type": "execute_result"
    }
   ],
   "source": [
    "del a[3:5]\n",
    "a"
   ]
  },
  {
   "cell_type": "code",
   "execution_count": 24,
   "id": "3d4ab9e4",
   "metadata": {},
   "outputs": [
    {
     "data": {
      "text/plain": [
       "[]"
      ]
     },
     "execution_count": 24,
     "metadata": {},
     "output_type": "execute_result"
    }
   ],
   "source": [
    "del a[:]\n",
    "a"
   ]
  },
  {
   "cell_type": "markdown",
   "id": "23355e9a",
   "metadata": {},
   "source": [
    "`del` statement còn dùng để delete các biến"
   ]
  },
  {
   "cell_type": "code",
   "execution_count": 25,
   "id": "12c57242",
   "metadata": {},
   "outputs": [],
   "source": [
    "del a"
   ]
  },
  {
   "cell_type": "markdown",
   "id": "0519da5e",
   "metadata": {},
   "source": [
    "# 5.3 Tuples and Sequences"
   ]
  },
  {
   "cell_type": "markdown",
   "id": "e12bcf30",
   "metadata": {},
   "source": [
    "Tuples giống List là một Sequence Types, khác với List nó mang tính immutable. Tức ta không thể thay đổi giả trị phần tử nằm trong Tuple bằng cách assignment"
   ]
  },
  {
   "cell_type": "code",
   "execution_count": 32,
   "id": "325815f1",
   "metadata": {},
   "outputs": [],
   "source": [
    "m = [1,2,3]\n",
    "v = (m, [3, 2, 1])"
   ]
  },
  {
   "cell_type": "code",
   "execution_count": 28,
   "id": "5a81040a",
   "metadata": {},
   "outputs": [
    {
     "data": {
      "text/plain": [
       "([5, 2, 3], [3, 2, 1])"
      ]
     },
     "execution_count": 28,
     "metadata": {},
     "output_type": "execute_result"
    }
   ],
   "source": [
    "v"
   ]
  },
  {
   "cell_type": "markdown",
   "id": "a837d234",
   "metadata": {},
   "source": [
    "Tuy nhiên, tuples có thể chứa các phần tử mutable như list"
   ]
  },
  {
   "cell_type": "code",
   "execution_count": 33,
   "id": "1337f8c4",
   "metadata": {},
   "outputs": [
    {
     "data": {
      "text/plain": [
       "([1, 0, 3], [3, 2, 1])"
      ]
     },
     "execution_count": 33,
     "metadata": {},
     "output_type": "execute_result"
    }
   ],
   "source": [
    "v[0][1] = 0\n",
    "v"
   ]
  },
  {
   "cell_type": "markdown",
   "id": "acdc6155",
   "metadata": {},
   "source": [
    "Khi ta gán tuples cho các biến, cần lưu ý dấu phẩy và dấu ngoặc ()"
   ]
  },
  {
   "cell_type": "code",
   "execution_count": 34,
   "id": "a1ab516d",
   "metadata": {},
   "outputs": [
    {
     "data": {
      "text/plain": [
       "([1, 2, 3], [4, 5, 6])"
      ]
     },
     "execution_count": 34,
     "metadata": {},
     "output_type": "execute_result"
    }
   ],
   "source": [
    "u = [1,2,3], [4,5,6]\n",
    "u"
   ]
  },
  {
   "cell_type": "markdown",
   "id": "d67327e2",
   "metadata": {},
   "source": [
    "Ta có thể unpacking sequence dưới dạng gán biến cho từng phần tử"
   ]
  },
  {
   "cell_type": "code",
   "execution_count": 36,
   "id": "6add2d01",
   "metadata": {},
   "outputs": [
    {
     "name": "stdout",
     "output_type": "stream",
     "text": [
      "[1, 2, 3]\n",
      "[4, 5, 6]\n"
     ]
    }
   ],
   "source": [
    "x, y = u\n",
    "print(x)\n",
    "print(y)"
   ]
  },
  {
   "cell_type": "markdown",
   "id": "64dba19b",
   "metadata": {},
   "source": [
    "# 5.4 Sets"
   ]
  },
  {
   "cell_type": "markdown",
   "id": "f4c613b8",
   "metadata": {},
   "source": [
    "Python còn chứa một loại dữ liệu là set. Set là một tập hợp không thứ tự, không có phần tử lặp lại. Set có chứa các thực thi toán học như `union`, `intersection`, `difference`,..."
   ]
  },
  {
   "cell_type": "markdown",
   "id": "6f92ba2a",
   "metadata": {},
   "source": [
    "Cách khai báo set thông qua hàm `set()`. Để có thể tạo ra một hàm rộng, ta dùng `set()` thay vì dùng {}"
   ]
  },
  {
   "cell_type": "code",
   "execution_count": 37,
   "id": "3d694f16",
   "metadata": {},
   "outputs": [],
   "source": [
    "basket = {'apple', 'orange', 'apple', 'pear', 'orange', 'banana'}"
   ]
  },
  {
   "cell_type": "code",
   "execution_count": 38,
   "id": "7227c490",
   "metadata": {},
   "outputs": [
    {
     "name": "stdout",
     "output_type": "stream",
     "text": [
      "{'banana', 'orange', 'pear', 'apple'}\n"
     ]
    }
   ],
   "source": [
    "print(basket)"
   ]
  },
  {
   "cell_type": "code",
   "execution_count": 39,
   "id": "dfbf2b2d",
   "metadata": {},
   "outputs": [
    {
     "data": {
      "text/plain": [
       "True"
      ]
     },
     "execution_count": 39,
     "metadata": {},
     "output_type": "execute_result"
    }
   ],
   "source": [
    "'banana' in basket"
   ]
  },
  {
   "cell_type": "code",
   "execution_count": 47,
   "id": "cf61979c",
   "metadata": {},
   "outputs": [],
   "source": [
    "a = set('abracadabra')\n",
    "b = set('alacazam')"
   ]
  },
  {
   "cell_type": "code",
   "execution_count": 51,
   "id": "0ac69721",
   "metadata": {},
   "outputs": [
    {
     "data": {
      "text/plain": [
       "{'a', 'b', 'c', 'd', 'r'}"
      ]
     },
     "execution_count": 51,
     "metadata": {},
     "output_type": "execute_result"
    }
   ],
   "source": [
    "a # unique letteres in a"
   ]
  },
  {
   "cell_type": "code",
   "execution_count": 52,
   "id": "0094edf2",
   "metadata": {},
   "outputs": [
    {
     "data": {
      "text/plain": [
       "{'b', 'd', 'r'}"
      ]
     },
     "execution_count": 52,
     "metadata": {},
     "output_type": "execute_result"
    }
   ],
   "source": [
    "a - b # letters in a but not in b"
   ]
  },
  {
   "cell_type": "code",
   "execution_count": 53,
   "id": "3a5c7371",
   "metadata": {},
   "outputs": [
    {
     "data": {
      "text/plain": [
       "{'a', 'b', 'c', 'd', 'l', 'm', 'r', 'z'}"
      ]
     },
     "execution_count": 53,
     "metadata": {},
     "output_type": "execute_result"
    }
   ],
   "source": [
    "a | b # letters in a or b or both"
   ]
  },
  {
   "cell_type": "code",
   "execution_count": 54,
   "id": "28fea3b0",
   "metadata": {},
   "outputs": [
    {
     "data": {
      "text/plain": [
       "{'a', 'c'}"
      ]
     },
     "execution_count": 54,
     "metadata": {},
     "output_type": "execute_result"
    }
   ],
   "source": [
    "a & b # letters in both a and b"
   ]
  },
  {
   "cell_type": "code",
   "execution_count": 55,
   "id": "878dfd62",
   "metadata": {},
   "outputs": [
    {
     "data": {
      "text/plain": [
       "{'b', 'd', 'l', 'm', 'r', 'z'}"
      ]
     },
     "execution_count": 55,
     "metadata": {},
     "output_type": "execute_result"
    }
   ],
   "source": [
    "a ^ b # letters in a or b but not both"
   ]
  },
  {
   "cell_type": "markdown",
   "id": "d37ddcbe",
   "metadata": {},
   "source": [
    "Tương tự với list comprehensions, set comprehensions cũng được hỗ trợ"
   ]
  },
  {
   "cell_type": "code",
   "execution_count": 57,
   "id": "62709c5e",
   "metadata": {},
   "outputs": [
    {
     "data": {
      "text/plain": [
       "{'d', 'r'}"
      ]
     },
     "execution_count": 57,
     "metadata": {},
     "output_type": "execute_result"
    }
   ],
   "source": [
    "a = {x for x in 'abracadabra' if x not in 'abc'}\n",
    "a"
   ]
  },
  {
   "cell_type": "markdown",
   "id": "f885a2f4",
   "metadata": {},
   "source": [
    "# 5.5 Dictionaries"
   ]
  },
  {
   "cell_type": "markdown",
   "id": "9ee4b40e",
   "metadata": {},
   "source": [
    "Dictionary không phải là sequence type, khác với sequence type, khi ta truy cập chúng phải thông qua cơ chế key và value\n",
    "\n",
    "Dictionary được indexed thông qua keys, và các keys này mang kiểu immutable. VD: string, numbers, hoặc tuple.\n",
    "\n",
    "Lưu ý : tuple có thể làm key với điều kiện nó chứa các phần tử immutable như dạng string, number, tuple. Nếu nó chứa các phần tử mutable bằng cách trực tiếp hay gián tiếp đèu không thể làm key\n",
    "\n",
    "Ta không thể dùng list để làm key cho dictionary"
   ]
  },
  {
   "cell_type": "code",
   "execution_count": 58,
   "id": "dedb12bf",
   "metadata": {},
   "outputs": [
    {
     "data": {
      "text/plain": [
       "{'jack': 4098, 'sape': 4139, 'guido': 4127}"
      ]
     },
     "execution_count": 58,
     "metadata": {},
     "output_type": "execute_result"
    }
   ],
   "source": [
    "tel = {\"jack\": 4098, \"sape\": 4139}\n",
    "tel[\"guido\"] = 4127\n",
    "tel"
   ]
  },
  {
   "cell_type": "code",
   "execution_count": 59,
   "id": "d32fec63",
   "metadata": {},
   "outputs": [
    {
     "data": {
      "text/plain": [
       "4098"
      ]
     },
     "execution_count": 59,
     "metadata": {},
     "output_type": "execute_result"
    }
   ],
   "source": [
    "tel[\"jack\"]"
   ]
  },
  {
   "cell_type": "code",
   "execution_count": 60,
   "id": "367e95b5",
   "metadata": {},
   "outputs": [],
   "source": [
    "del tel[\"sape\"]"
   ]
  },
  {
   "cell_type": "code",
   "execution_count": 61,
   "id": "2edffe84",
   "metadata": {},
   "outputs": [
    {
     "data": {
      "text/plain": [
       "{'jack': 4098, 'guido': 4127}"
      ]
     },
     "execution_count": 61,
     "metadata": {},
     "output_type": "execute_result"
    }
   ],
   "source": [
    "tel"
   ]
  },
  {
   "cell_type": "code",
   "execution_count": 62,
   "id": "635ee952",
   "metadata": {},
   "outputs": [
    {
     "data": {
      "text/plain": [
       "{'jack': 4098, 'guido': 4127, 'irv': 4127}"
      ]
     },
     "execution_count": 62,
     "metadata": {},
     "output_type": "execute_result"
    }
   ],
   "source": [
    "tel['irv'] = 4127\n",
    "tel"
   ]
  },
  {
   "cell_type": "markdown",
   "id": "3a6ec07c",
   "metadata": {},
   "source": [
    "Khi ta thực hiện lệnh `list(d)` ta sẽ nhận về một list các keys được dùng trong dictionary, nếu ta muốn chúng theo thứ tự thì ta dùng `sorted(d)`"
   ]
  },
  {
   "cell_type": "code",
   "execution_count": 63,
   "id": "4563c7d8",
   "metadata": {},
   "outputs": [
    {
     "data": {
      "text/plain": [
       "['jack', 'guido', 'irv']"
      ]
     },
     "execution_count": 63,
     "metadata": {},
     "output_type": "execute_result"
    }
   ],
   "source": [
    "list(tel)"
   ]
  },
  {
   "cell_type": "code",
   "execution_count": 64,
   "id": "37d10e29",
   "metadata": {},
   "outputs": [
    {
     "data": {
      "text/plain": [
       "['guido', 'irv', 'jack']"
      ]
     },
     "execution_count": 64,
     "metadata": {},
     "output_type": "execute_result"
    }
   ],
   "source": [
    "sorted(tel)"
   ]
  },
  {
   "cell_type": "markdown",
   "id": "1ee27e6b",
   "metadata": {},
   "source": [
    "Kiểm tra phần tử có trong list hay không ta dùng `in`"
   ]
  },
  {
   "cell_type": "code",
   "execution_count": 65,
   "id": "8425656b",
   "metadata": {},
   "outputs": [
    {
     "data": {
      "text/plain": [
       "True"
      ]
     },
     "execution_count": 65,
     "metadata": {},
     "output_type": "execute_result"
    }
   ],
   "source": [
    "'guido' in tel"
   ]
  },
  {
   "cell_type": "markdown",
   "id": "cecdc566",
   "metadata": {},
   "source": [
    "`dict()` constructor dùng để build các dictionaries trực tiếp từ cập key-value dưới dạng tuple"
   ]
  },
  {
   "cell_type": "code",
   "execution_count": 67,
   "id": "77ebe44f",
   "metadata": {},
   "outputs": [
    {
     "data": {
      "text/plain": [
       "{'sape': 4139, 'guido': 4127}"
      ]
     },
     "execution_count": 67,
     "metadata": {},
     "output_type": "execute_result"
    }
   ],
   "source": [
    "dict((('sape', 4139), ('guido', 4127)))"
   ]
  },
  {
   "cell_type": "code",
   "execution_count": 68,
   "id": "141dae52",
   "metadata": {},
   "outputs": [
    {
     "data": {
      "text/plain": [
       "{'sape': 4139, 'guido': 4127}"
      ]
     },
     "execution_count": 68,
     "metadata": {},
     "output_type": "execute_result"
    }
   ],
   "source": [
    "dict([('sape', 4139), ('guido', 4127)])"
   ]
  },
  {
   "cell_type": "markdown",
   "id": "bcae620a",
   "metadata": {},
   "source": [
    "Nếu như key là dạng string, ta có thể xác định cặc key-value đơn giản như sau theo kiểu keyword arguments"
   ]
  },
  {
   "cell_type": "code",
   "execution_count": 69,
   "id": "b60c8312",
   "metadata": {},
   "outputs": [
    {
     "data": {
      "text/plain": [
       "{'sape': 4139, 'guido': 4127, 'jack': 4098}"
      ]
     },
     "execution_count": 69,
     "metadata": {},
     "output_type": "execute_result"
    }
   ],
   "source": [
    "dict(sape=4139, guido=4127, jack=4098)"
   ]
  },
  {
   "cell_type": "markdown",
   "id": "807b239f",
   "metadata": {},
   "source": [
    "# 5.6 Looping Techniques"
   ]
  },
  {
   "cell_type": "markdown",
   "id": "e24247a0",
   "metadata": {},
   "source": [
    "Ta sử dụng `item()` là phường thức để truy cập cặp key-value"
   ]
  },
  {
   "cell_type": "code",
   "execution_count": 70,
   "id": "3b36d2ee",
   "metadata": {},
   "outputs": [
    {
     "name": "stdout",
     "output_type": "stream",
     "text": [
      "gallahad the pure\n",
      "the robin the brave\n"
     ]
    }
   ],
   "source": [
    "knights = {'gallahad': 'the pure', 'the robin': 'the brave'}\n",
    "for k, v in knights.items():\n",
    "    print(k, v)"
   ]
  },
  {
   "cell_type": "markdown",
   "id": "09b9bdd7",
   "metadata": {},
   "source": [
    "Nếu ta muốn tạo vòng lặp cho một sequence, ta muốn thêm position index và giá trị tương ứng index cùng lúc, ta dùng `enumerate()`"
   ]
  },
  {
   "cell_type": "code",
   "execution_count": 71,
   "id": "c0a97545",
   "metadata": {},
   "outputs": [
    {
     "name": "stdout",
     "output_type": "stream",
     "text": [
      "0 tic\n",
      "1 tac\n",
      "2 toe\n"
     ]
    }
   ],
   "source": [
    "for i, v in enumerate(['tic', 'tac', 'toe']):\n",
    "    print(i, v)"
   ]
  },
  {
   "cell_type": "markdown",
   "id": "0c00bb67",
   "metadata": {},
   "source": [
    "Để tạo vòng lặp qua hai sequence cùng một lúc, ta có thể dùng `zip()`"
   ]
  },
  {
   "cell_type": "code",
   "execution_count": 72,
   "id": "77f27372",
   "metadata": {},
   "outputs": [
    {
     "name": "stdout",
     "output_type": "stream",
     "text": [
      "What is your name? It is lancelot\n",
      "What is your quest? It is the holy grail\n",
      "What is your favorite color? It is blue\n"
     ]
    }
   ],
   "source": [
    "answers = ['lancelot', 'the holy grail', 'blue']\n",
    "questions = ['name', 'quest', 'favorite color']\n",
    "for q, a in zip(questions, answers):\n",
    "    print(\"What is your {0}? It is {1}\".format(q, a))"
   ]
  },
  {
   "cell_type": "markdown",
   "id": "e90588a4",
   "metadata": {},
   "source": [
    "Ta có thể tạo một vòng lặp ngược chiều thông qua dùng `reversed()` function"
   ]
  },
  {
   "cell_type": "code",
   "execution_count": 73,
   "id": "a5d11955",
   "metadata": {},
   "outputs": [
    {
     "name": "stdout",
     "output_type": "stream",
     "text": [
      "9\n",
      "7\n",
      "5\n",
      "3\n",
      "1\n"
     ]
    }
   ],
   "source": [
    "for i in reversed(range(1, 10, 2)):\n",
    "    print(i)"
   ]
  },
  {
   "cell_type": "markdown",
   "id": "53470696",
   "metadata": {},
   "source": [
    "Ta có thể tạo một vòng lặp có thứ tự thông qua dùng `sorted()` function"
   ]
  },
  {
   "cell_type": "code",
   "execution_count": 74,
   "id": "29c1eda8",
   "metadata": {},
   "outputs": [
    {
     "name": "stdout",
     "output_type": "stream",
     "text": [
      "apple\n",
      "apple\n",
      "banana\n",
      "orange\n",
      "orange\n",
      "pear\n"
     ]
    }
   ],
   "source": [
    "for i in sorted(['apple', 'orange', 'apple', 'pear', 'orange', 'banana']):\n",
    "    print(i)"
   ]
  },
  {
   "cell_type": "markdown",
   "id": "1f2513b6",
   "metadata": {},
   "source": [
    "Ta có thể tạo một vòng lặp loại bỏ các phần tử trùng lặp thông qua dùng `set()`"
   ]
  },
  {
   "cell_type": "code",
   "execution_count": 75,
   "id": "405a6489",
   "metadata": {},
   "outputs": [
    {
     "name": "stdout",
     "output_type": "stream",
     "text": [
      "apple\n",
      "banana\n",
      "orange\n",
      "pear\n"
     ]
    }
   ],
   "source": [
    "basket = ['apple', 'orange', 'apple', 'pear', 'orange', 'banana']\n",
    "for f in sorted(set(basket)):\n",
    "    print(f)"
   ]
  },
  {
   "cell_type": "markdown",
   "id": "f5927a9a",
   "metadata": {},
   "source": [
    "Đôi khi, nên đơn giản việc dùng list cho an toàn. Như ta nên tạo một list mới"
   ]
  },
  {
   "cell_type": "code",
   "execution_count": 76,
   "id": "a359493c",
   "metadata": {},
   "outputs": [
    {
     "data": {
      "text/plain": [
       "[56.2, 51.7, 55.3, 52.5, 47.8]"
      ]
     },
     "execution_count": 76,
     "metadata": {},
     "output_type": "execute_result"
    }
   ],
   "source": [
    "import math\n",
    "raw_data = [56.2, float('NaN'), 51.7, 55.3, 52.5, float('NaN'), 47.8]\n",
    "filtered_data = []\n",
    "for value in raw_data:\n",
    "    if not math.isnan(value):\n",
    "        filtered_data.append(value)\n",
    "        \n",
    "filtered_data"
   ]
  },
  {
   "cell_type": "markdown",
   "id": "d99cbe0d",
   "metadata": {},
   "source": [
    "# 5.7 More on Conditions"
   ]
  },
  {
   "cell_type": "markdown",
   "id": "031b6008",
   "metadata": {},
   "source": [
    "Python Comparison Operators: == != > < >= <=\n",
    "Python Logical Operators: and or not\n",
    "Python Identity Operators: is is not\n",
    "Python Memebership Operators: in not in\n",
    "Python Bitwise Operators: & | ^ ~ << >>"
   ]
  }
 ],
 "metadata": {
  "kernelspec": {
   "display_name": "Python 3 (ipykernel)",
   "language": "python",
   "name": "python3"
  },
  "language_info": {
   "codemirror_mode": {
    "name": "ipython",
    "version": 3
   },
   "file_extension": ".py",
   "mimetype": "text/x-python",
   "name": "python",
   "nbconvert_exporter": "python",
   "pygments_lexer": "ipython3",
   "version": "3.10.5"
  }
 },
 "nbformat": 4,
 "nbformat_minor": 5
}
