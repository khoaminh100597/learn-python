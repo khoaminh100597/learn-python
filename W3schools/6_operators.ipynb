{
 "cells": [
  {
   "cell_type": "markdown",
   "metadata": {},
   "source": [
    "# Operators"
   ]
  },
  {
   "cell_type": "markdown",
   "metadata": {},
   "source": [
    "### Python Arithmetic Operators\n",
    "\n",
    "`+` Addition\n",
    "\n",
    "`-` Subtraction\n",
    "\n",
    "`*` Multiplication\n",
    "\n",
    "`/` Divistion\n",
    "\n",
    "`%` Modulus\n",
    "\n",
    "`**` Exponentiation\n",
    "\n",
    "`//` Floor division"
   ]
  },
  {
   "cell_type": "markdown",
   "metadata": {},
   "source": [
    "### Python Assignment Operators\n",
    "`=`\n",
    "\n",
    "`+=`\n",
    "\n",
    "`-=`\n",
    "\n",
    "`*=`\n",
    "\n",
    "`/=`\n",
    "\n",
    "`%=`\n",
    "\n",
    "`//=`\n",
    "\n",
    "`**=`"
   ]
  },
  {
   "cell_type": "markdown",
   "metadata": {},
   "source": [
    "### Python Comparison Operators\n",
    "\n",
    "`==`\n",
    "\n",
    "`!=`\n",
    "\n",
    "`>`\n",
    "\n",
    "`<`\n",
    "\n",
    "`>=`\n",
    "\n",
    "`<=`"
   ]
  },
  {
   "cell_type": "markdown",
   "metadata": {},
   "source": [
    "### Python Logical Opeartors\n",
    "\n",
    "`and`\n",
    "\n",
    "`or`\n",
    "\n",
    "`not`"
   ]
  },
  {
   "cell_type": "markdown",
   "metadata": {},
   "source": [
    "### Python Identity Operators\n",
    "\n",
    "`is`\n",
    "\n",
    "`is not`"
   ]
  },
  {
   "cell_type": "markdown",
   "metadata": {},
   "source": [
    "### Python Membership Operators\n",
    "\n",
    "`in`\n",
    "\n",
    "`not in`"
   ]
  }
 ],
 "metadata": {
  "kernelspec": {
   "display_name": "Python 3",
   "language": "python",
   "name": "python3"
  },
  "language_info": {
   "codemirror_mode": {
    "name": "ipython",
    "version": 3
   },
   "file_extension": ".py",
   "mimetype": "text/x-python",
   "name": "python",
   "nbconvert_exporter": "python",
   "pygments_lexer": "ipython3",
   "version": "3.9.13"
  },
  "orig_nbformat": 4
 },
 "nbformat": 4,
 "nbformat_minor": 2
}
