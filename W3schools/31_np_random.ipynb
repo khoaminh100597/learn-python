{
 "cells": [
  {
   "cell_type": "markdown",
   "metadata": {},
   "source": [
    "# Random Numbers in Numpy\n",
    "\n",
    "Random numbers generated through a generation algorithm are called pseudo random.\n",
    "\n",
    "Numpy offers the `random` module to work with random numbers"
   ]
  },
  {
   "cell_type": "markdown",
   "metadata": {},
   "source": [
    "Use the function `random.randint(n)` to generate a random integer\n",
    "\n",
    "The `randint()` method takes a `size` parameter where you can specify the shape of an array"
   ]
  },
  {
   "cell_type": "code",
   "execution_count": 3,
   "metadata": {},
   "outputs": [
    {
     "name": "stdout",
     "output_type": "stream",
     "text": [
      "93\n",
      "[92 82 59 44 12]\n"
     ]
    }
   ],
   "source": [
    "from numpy import random\n",
    "x = random.randint(100)\n",
    "print(x)\n",
    "\n",
    "x = random.randint(100, size=(5, ))\n",
    "print(x)"
   ]
  },
  {
   "cell_type": "markdown",
   "metadata": {},
   "source": [
    "Use the function `random.rand()` method returns a random float between 0 and 1\n",
    "\n",
    "The `rand()` method also allows you to specify the shape of the array"
   ]
  },
  {
   "cell_type": "code",
   "execution_count": 7,
   "metadata": {},
   "outputs": [
    {
     "name": "stdout",
     "output_type": "stream",
     "text": [
      "0.755199745765094\n",
      "[[0.58761663 0.18575057 0.44691459]\n",
      " [0.07238237 0.44684984 0.33257541]\n",
      " [0.22720324 0.68077878 0.16434694]\n",
      " [0.81970704 0.5316681  0.5084688 ]\n",
      " [0.80764673 0.97370721 0.262455  ]]\n"
     ]
    }
   ],
   "source": [
    "from numpy import random\n",
    "x = random.rand()\n",
    "print(x)\n",
    "\n",
    "x = random.rand(5, 3)\n",
    "print(x)"
   ]
  },
  {
   "cell_type": "markdown",
   "metadata": {},
   "source": [
    "### Generate Random Number From Array\n",
    "\n",
    "The `random.choice()` method allows you to generate a random value based on an array of values\n",
    "\n",
    "The `random.choice()` method takes an array as a parameter and randomly returns one of the values\n"
   ]
  },
  {
   "cell_type": "code",
   "execution_count": 8,
   "metadata": {},
   "outputs": [
    {
     "name": "stdout",
     "output_type": "stream",
     "text": [
      "[[3 3 9 5 5]\n",
      " [5 9 9 3 5]\n",
      " [5 7 3 9 5]]\n"
     ]
    }
   ],
   "source": [
    "from numpy import random\n",
    "x = random.choice([3, 5, 7, 9], size=(3, 5))\n",
    "print(x)"
   ]
  }
 ],
 "metadata": {
  "kernelspec": {
   "display_name": "Python 3",
   "language": "python",
   "name": "python3"
  },
  "language_info": {
   "codemirror_mode": {
    "name": "ipython",
    "version": 3
   },
   "file_extension": ".py",
   "mimetype": "text/x-python",
   "name": "python",
   "nbconvert_exporter": "python",
   "pygments_lexer": "ipython3",
   "version": "3.9.13"
  },
  "orig_nbformat": 4
 },
 "nbformat": 4,
 "nbformat_minor": 2
}
