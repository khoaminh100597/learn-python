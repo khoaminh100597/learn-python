{
 "cells": [
  {
   "cell_type": "markdown",
   "metadata": {},
   "source": [
    "# `itertools.permutations(iterable, [,*r*])`\n",
    "This tool returns successive *r* length permutations of elements in an iterable\n",
    "\n",
    "If *r* is not specified or is None, then *r* defaults to the length of the iterable, and all posible full length permutations are generated\n",
    "\n",
    "Permuations are printed in a lexicographic order sorted order. So, if the input iterable is sorted, the permutation tuples will be produced in a sorted order"
   ]
  },
  {
   "cell_type": "code",
   "execution_count": 2,
   "metadata": {},
   "outputs": [
    {
     "name": "stdout",
     "output_type": "stream",
     "text": [
      "<itertools.permutations object at 0x00000185F11259A0>\n",
      "[('1', '2', '3'), ('1', '3', '2'), ('2', '1', '3'), ('2', '3', '1'), ('3', '1', '2'), ('3', '2', '1')]\n",
      "[('b', 'c', 'a'), ('b', 'a', 'c'), ('c', 'b', 'a'), ('c', 'a', 'b'), ('a', 'b', 'c'), ('a', 'c', 'b')]\n"
     ]
    }
   ],
   "source": [
    "from itertools import permutations\n",
    "print(permutations(['1', '2', '3']))\n",
    "print(list(permutations(['1', '2', '3'])))\n",
    "\n",
    "print(list(permutations(['b', 'c', 'a'])))"
   ]
  },
  {
   "cell_type": "markdown",
   "metadata": {},
   "source": [
    "# `enumerate(iterable, start=0)`\n",
    "`Enumerate()` method adds a counter to an iterable and returns it in a form of enumerating object. This enumerated object can then be used directly for loops or converted into a `list of tuples` using the `list()` function."
   ]
  },
  {
   "cell_type": "code",
   "execution_count": 3,
   "metadata": {},
   "outputs": [
    {
     "name": "stdout",
     "output_type": "stream",
     "text": [
      "0 eat\n",
      "1 sleep\n",
      "2 repeat\n",
      "[(0, 'g'), (1, 'e'), (2, 'e'), (3, 'k')]\n"
     ]
    }
   ],
   "source": [
    "l1 = ['eat', 'sleep', 'repeat']\n",
    "s1 = 'geek'\n",
    "\n",
    "for i, x in enumerate(l1):\n",
    "    print(i, x)\n",
    "\n",
    "print(list(enumerate(s1)))"
   ]
  },
  {
   "cell_type": "markdown",
   "metadata": {},
   "source": [
    "# `any()` function\n",
    "Python `any()` function returns `True` if any of the elements of a given iterable( List, Dictionary, Tuple, set, etc) are True else it returns False."
   ]
  },
  {
   "cell_type": "code",
   "execution_count": 6,
   "metadata": {},
   "outputs": [
    {
     "name": "stdout",
     "output_type": "stream",
     "text": [
      "True\n",
      "True\n",
      "True\n"
     ]
    }
   ],
   "source": [
    "l = [False, True, False]\n",
    "print(any(l))\n",
    "\n",
    "s = {1, 2, 0, 8, False}\n",
    "print(any(s))\n",
    "\n",
    "# In the case of dictionary, if all the keys of the dictionary are false or the dictionary is empty, any() function in Python return False\n",
    "# If at least one key is True, any() returns True\n",
    "d = {0: \"Hello\", False: \"Hi\"}\n",
    "print(any(d))"
   ]
  },
  {
   "cell_type": "code",
   "execution_count": 7,
   "metadata": {},
   "outputs": [
    {
     "name": "stdout",
     "output_type": "stream",
     "text": [
      "The original list:  [4, 5, 6, 7, 8, 10, 17]\n",
      "True\n"
     ]
    }
   ],
   "source": [
    "test_list = [4, 5, 6, 7, 8, 10, 17]\n",
    "print('The original list: ', test_list)\n",
    "res = any(elem > 10 for elem in test_list)\n",
    "print(res)"
   ]
  },
  {
   "cell_type": "markdown",
   "metadata": {},
   "source": [
    "# `all()` function\n",
    "The Python `all()` function returns true if all the elements of a given iterable (List, Dictionary, Tuple, set, etc.) are `True` otherwise it returns `False`. It also returns `True` if the iterable object is empty. "
   ]
  },
  {
   "cell_type": "code",
   "execution_count": 13,
   "metadata": {},
   "outputs": [
    {
     "name": "stdout",
     "output_type": "stream",
     "text": [
      "True\n",
      "False\n",
      "True\n"
     ]
    }
   ],
   "source": [
    "l1 = [4, 5, 1]\n",
    "l2 = [0, False, True]\n",
    "s = '000'\n",
    "print(all(l1))\n",
    "print(all(l2))\n",
    "print(all(s))"
   ]
  },
  {
   "cell_type": "code",
   "execution_count": 9,
   "metadata": {},
   "outputs": [
    {
     "name": "stdout",
     "output_type": "stream",
     "text": [
      "True\n"
     ]
    }
   ],
   "source": [
    "l = (2, 4, 6, 8, 10)\n",
    "print(all(elem % 2 == 0 for elem in l))"
   ]
  },
  {
   "cell_type": "markdown",
   "metadata": {},
   "source": [
    "# `abs()` function\n",
    "The Python `abs()` function return the absolute value. The absolute value of any number is always positive it removes the negative sign of a number in Python."
   ]
  },
  {
   "cell_type": "code",
   "execution_count": 14,
   "metadata": {},
   "outputs": [
    {
     "name": "stdout",
     "output_type": "stream",
     "text": [
      "Absolute value of integer is  94\n",
      "Absolute value of float is  55.24\n",
      "Absolute value or Magnitude of complex is  5.0\n"
     ]
    }
   ],
   "source": [
    "var = -94\n",
    "print('Absolute value of integer is ', abs(var))\n",
    "\n",
    "float_number = -55.24\n",
    "print('Absolute value of float is ', abs(float_number))\n",
    "\n",
    "complex_number = 3 - 4j\n",
    "print('Absolute value or Magnitude of complex is ', abs(complex_number))"
   ]
  },
  {
   "cell_type": "markdown",
   "metadata": {},
   "source": [
    "# `bin()` Function\n",
    "Python bin() function returns the binary string of a given integer"
   ]
  },
  {
   "cell_type": "code",
   "execution_count": 15,
   "metadata": {},
   "outputs": [
    {
     "name": "stdout",
     "output_type": "stream",
     "text": [
      "0b101010\n"
     ]
    }
   ],
   "source": [
    "x = bin(42)\n",
    "print(x)"
   ]
  },
  {
   "cell_type": "markdown",
   "metadata": {},
   "source": [
    "# `bool()` Function\n",
    "Python `bool()` function is used to return or convert a value to a Boolean value i.e., True or False, using the standard truth testing procedure."
   ]
  },
  {
   "cell_type": "code",
   "execution_count": 16,
   "metadata": {},
   "outputs": [
    {
     "name": "stdout",
     "output_type": "stream",
     "text": [
      "True\n"
     ]
    }
   ],
   "source": [
    "x = bool(2)\n",
    "print(x)"
   ]
  },
  {
   "cell_type": "markdown",
   "metadata": {},
   "source": [
    "# Debugging Python code using `breakpoint()` and `pdb`\n",
    "\n",
    "Debugging in Python using `breakpoint()` and `pdb` module requires a set of commands that needs to be followed while debugging Python code. These commands are as follows:\n",
    "\n",
    "`c: continue execution`\n",
    "\n",
    "`q: quit the debugger/execution`\n",
    "\n",
    "`n: step to next line within the same function`\n",
    "\n",
    "`s: step to next line in this function or a called function`"
   ]
  },
  {
   "cell_type": "code",
   "execution_count": null,
   "metadata": {},
   "outputs": [],
   "source": [
    "import pdb\n",
    "\n",
    "def debugger(a, b):\n",
    "    pdb.set_trace()\n",
    "    result = a / b\n",
    "    return result\n",
    "\n",
    "print(debugger(10, 0))"
   ]
  },
  {
   "cell_type": "markdown",
   "metadata": {},
   "source": [
    "# `chr()` Function\n",
    "In Python, the `chr()` function is a built-in function that returns a string representing a character whose Unicode code point is the integer specified"
   ]
  },
  {
   "cell_type": "code",
   "execution_count": 22,
   "metadata": {},
   "outputs": [
    {
     "name": "stdout",
     "output_type": "stream",
     "text": [
      "ASCII Value of 97 is  a\n"
     ]
    }
   ],
   "source": [
    "num = 97\n",
    "print('ASCII Value of 97 is ', chr(97))"
   ]
  },
  {
   "cell_type": "code",
   "execution_count": 13,
   "metadata": {},
   "outputs": [
    {
     "name": "stdout",
     "output_type": "stream",
     "text": [
      "True\n",
      "True\n"
     ]
    }
   ],
   "source": [
    "from datetime import date\n",
    "\n",
    "class Person:\n",
    "    abc = 12\n",
    "\n",
    "    def __init__(self, name, age):\n",
    "        self.name = name\n",
    "        self.age = age\n",
    "\n",
    "    @classmethod\n",
    "    def fromBirthYear(cls, name, year):\n",
    "        return cls(name, date.today().year - year)\n",
    "\n",
    "    def display(self):\n",
    "        print('Name : ', self.name, 'Age : ', self.age)\n",
    "\n",
    "    @staticmethod\n",
    "    def fromFathersAge(name, fatherAge, fatherPersonAgeDiff):\n",
    "        return Person(name, date.today().year - fatherAge + fatherPersonAgeDiff)\n",
    "\n",
    "class Man(Person):\n",
    "    sex = 'Male'\n",
    "\n",
    "person1 = Man('mayank', 21)\n",
    "person2 = Man.fromFathersAge('mayank', 1996, 20)\n",
    "print(isinstance(person1, Man))\n",
    "print(isinstance(person2, Person))\n"
   ]
  }
 ],
 "metadata": {
  "kernelspec": {
   "display_name": "Python 3",
   "language": "python",
   "name": "python3"
  },
  "language_info": {
   "codemirror_mode": {
    "name": "ipython",
    "version": 3
   },
   "file_extension": ".py",
   "mimetype": "text/x-python",
   "name": "python",
   "nbconvert_exporter": "python",
   "pygments_lexer": "ipython3",
   "version": "3.9.13"
  },
  "orig_nbformat": 4
 },
 "nbformat": 4,
 "nbformat_minor": 2
}
