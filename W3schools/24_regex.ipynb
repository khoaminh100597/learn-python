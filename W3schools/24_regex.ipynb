{
 "cells": [
  {
   "cell_type": "markdown",
   "metadata": {},
   "source": [
    "# RegEx\n",
    "A RegEx is a sequence of characters that forms a search pattern\n",
    "\n",
    "RegEx can be used to check if a string contains the specified pattern"
   ]
  },
  {
   "cell_type": "markdown",
   "metadata": {},
   "source": [
    "### RegEx Module\n",
    "Python has a built-in package called `re`, which can be used to work with Regular Expressions"
   ]
  },
  {
   "cell_type": "code",
   "execution_count": null,
   "metadata": {},
   "outputs": [],
   "source": [
    "import re"
   ]
  },
  {
   "cell_type": "markdown",
   "metadata": {},
   "source": [
    "### RegEx Functions\n",
    "The `re` module offers a set of functions that allows us to search a string for a match:\n",
    "\n",
    "- `findall`: Returns a list containing all matches\n",
    "- `search`: Returns a Match object if there is a match anywhere in the string\n",
    "- `split`: Returns a list where the string has been split at each match\n",
    "- `sub`: Replaces one or many matches with a string"
   ]
  },
  {
   "cell_type": "markdown",
   "metadata": {},
   "source": [
    "# Metacharacters"
   ]
  },
  {
   "cell_type": "markdown",
   "metadata": {},
   "source": [
    "`[]` A set of characters"
   ]
  },
  {
   "cell_type": "code",
   "execution_count": 1,
   "metadata": {},
   "outputs": [
    {
     "name": "stdout",
     "output_type": "stream",
     "text": [
      "['h', 'e', 'a', 'i', 'i', 'a', 'i']\n"
     ]
    }
   ],
   "source": [
    "# Find a lower case characters alphabetically between \"a\" and \"m\"0_definition.ipynb\n",
    "import re\n",
    "\n",
    "txt = \" The rain in Spain\"\n",
    "x = re.findall(\"[a-m]\", txt)\n",
    "print(x)"
   ]
  },
  {
   "cell_type": "markdown",
   "metadata": {},
   "source": [
    "`\\` Signals a special sequence (can also be used to escape special characters)"
   ]
  },
  {
   "cell_type": "code",
   "execution_count": 3,
   "metadata": {},
   "outputs": [
    {
     "name": "stdout",
     "output_type": "stream",
     "text": [
      "['5', '9']\n"
     ]
    }
   ],
   "source": [
    "# Find all digit characters\n",
    "import re\n",
    "\n",
    "txt = \"That will be 59 dollars\"\n",
    "x = re.findall(\"\\d\", txt)\n",
    "print(x)"
   ]
  },
  {
   "cell_type": "markdown",
   "metadata": {},
   "source": [
    "`.` Any character (except newline character)"
   ]
  },
  {
   "cell_type": "code",
   "execution_count": 10,
   "metadata": {},
   "outputs": [
    {
     "name": "stdout",
     "output_type": "stream",
     "text": [
      "['hello']\n"
     ]
    }
   ],
   "source": [
    "# Search for a sequence that starts with \"he\", followed by two characters, and an 'o'\n",
    "import re\n",
    "txt = \"hello planet\"\n",
    "x = re.findall(\"he..o\", txt)\n",
    "print(x)"
   ]
  },
  {
   "cell_type": "markdown",
   "metadata": {},
   "source": [
    "`^` Starts with"
   ]
  },
  {
   "cell_type": "code",
   "execution_count": 2,
   "metadata": {},
   "outputs": [
    {
     "name": "stdout",
     "output_type": "stream",
     "text": [
      "Yes, the string starts with 'hello'\n"
     ]
    }
   ],
   "source": [
    "# Check if the string starts with 'hello'\n",
    "import re\n",
    "\n",
    "txt = \"hello planet\"\n",
    "x = re.findall(\"^hello\", txt)\n",
    "if x:\n",
    "    print(\"Yes, the string starts with 'hello'\")"
   ]
  },
  {
   "cell_type": "markdown",
   "metadata": {},
   "source": [
    "`$` Ends with"
   ]
  },
  {
   "cell_type": "code",
   "execution_count": 11,
   "metadata": {},
   "outputs": [
    {
     "name": "stdout",
     "output_type": "stream",
     "text": [
      "Yes, the string ends with 'planet'\n"
     ]
    }
   ],
   "source": [
    "# Check if the string ends 'planet'\n",
    "import re\n",
    "txt = \"hello planet\"\n",
    "x = re.findall(\"planet$\", txt)\n",
    "if x:\n",
    "    print(\"Yes, the string ends with 'planet'\")"
   ]
  },
  {
   "cell_type": "markdown",
   "metadata": {},
   "source": [
    "`*` Zero or more occurences"
   ]
  },
  {
   "cell_type": "code",
   "execution_count": 12,
   "metadata": {},
   "outputs": [
    {
     "name": "stdout",
     "output_type": "stream",
     "text": [
      "['hello']\n"
     ]
    }
   ],
   "source": [
    "# Search for a sequence that starts with \"he\", followed by 0 or more characters and an \"o\"\n",
    "import re\n",
    "txt = \"hello planet\"\n",
    "x = re.findall(\"he.*o\", txt)\n",
    "print(x)"
   ]
  },
  {
   "cell_type": "markdown",
   "metadata": {},
   "source": [
    "`{}` Exactly the specified number of occurrences"
   ]
  },
  {
   "cell_type": "code",
   "execution_count": 13,
   "metadata": {},
   "outputs": [
    {
     "name": "stdout",
     "output_type": "stream",
     "text": [
      "['hello']\n"
     ]
    }
   ],
   "source": [
    "# Search for a sequence that starts with \"he\", followed exactly 2 characters, and an 'o'\n",
    "import re\n",
    "txt = 'hello planet'\n",
    "x = re.findall(\"he.{2}o\", txt)\n",
    "print(x)"
   ]
  },
  {
   "cell_type": "markdown",
   "metadata": {},
   "source": [
    "`|` Either or"
   ]
  },
  {
   "cell_type": "code",
   "execution_count": 14,
   "metadata": {},
   "outputs": [
    {
     "name": "stdout",
     "output_type": "stream",
     "text": [
      "Yes\n"
     ]
    }
   ],
   "source": [
    "# Check if the string contains either \"falls\" or \"stays\"\n",
    "import re\n",
    "txt = \"The rain in Spain falls mainly in the plain!\"\n",
    "x = re.findall(\"falls|stays\", txt)\n",
    "if x:\n",
    "    print(\"Yes\")\n",
    "else:\n",
    "    print(\"no match\")"
   ]
  },
  {
   "cell_type": "markdown",
   "metadata": {},
   "source": [
    "### Special Sequences\n",
    "A special sequence is `\\` followed by one of the characters in the list below, and has a special meaning"
   ]
  },
  {
   "cell_type": "markdown",
   "metadata": {},
   "source": [
    "`\\A` Returns a match if the specified characters are at the beginning of the string"
   ]
  },
  {
   "cell_type": "code",
   "execution_count": 15,
   "metadata": {},
   "outputs": [
    {
     "name": "stdout",
     "output_type": "stream",
     "text": [
      "['The']\n",
      "Yes, there is a match\n"
     ]
    }
   ],
   "source": [
    "# Check if the string starts with \"The\"\n",
    "import re\n",
    "x = re.findall(\"\\AThe\", txt)\n",
    "print(x)\n",
    "if x:\n",
    "    print(\"Yes, there is a match\")\n",
    "else:\n",
    "    print(\"No match\")"
   ]
  },
  {
   "cell_type": "markdown",
   "metadata": {},
   "source": [
    "`\\b` Returns a match where the specified characters are at the beginning or at the end of a word"
   ]
  },
  {
   "cell_type": "code",
   "execution_count": 16,
   "metadata": {},
   "outputs": [
    {
     "name": "stdout",
     "output_type": "stream",
     "text": [
      "[]\n",
      "No match\n",
      "['ain', 'ain']\n",
      "Yes there is a match\n"
     ]
    }
   ],
   "source": [
    "# Check if \"ain\" is present at the beginning of a WORD\n",
    "import re\n",
    "txt = \"The rain in Spain\"\n",
    "x = re.findall(r\"\\bain\", txt)\n",
    "print(x)\n",
    "if x:\n",
    "    print(\"Yes there is a match at the beginning\")\n",
    "else:\n",
    "    print(\"No match\")\n",
    "x = re.findall(r\"ain\\b\", txt)\n",
    "print(x)\n",
    "if x:\n",
    "    print(\"Yes there is a match\")"
   ]
  },
  {
   "cell_type": "markdown",
   "metadata": {},
   "source": [
    "`\\B` Returns a match where the specified characters are present, but NOT at the beginning (or at the end) of a word"
   ]
  },
  {
   "cell_type": "code",
   "execution_count": 18,
   "metadata": {},
   "outputs": [
    {
     "name": "stdout",
     "output_type": "stream",
     "text": [
      "['ain', 'ain']\n",
      "[]\n"
     ]
    }
   ],
   "source": [
    "# Check if \"ain\" is present, but NOT at the beginning of a word\n",
    "import re\n",
    "txt = \"The rain in Spain\"\n",
    "x = re.findall(r\"\\Bain\", txt)\n",
    "print(x)\n",
    "# Check if \"ain\" is present, but NOT in the end of a word\n",
    "x = re.findall(r\"ain\\B\", txt)\n",
    "print(x)"
   ]
  },
  {
   "cell_type": "markdown",
   "metadata": {},
   "source": [
    "`\\d` Returns a match where the string contains digits (numbers from 0-9)"
   ]
  },
  {
   "cell_type": "code",
   "execution_count": 19,
   "metadata": {},
   "outputs": [
    {
     "name": "stdout",
     "output_type": "stream",
     "text": [
      "[]\n",
      "No match\n"
     ]
    }
   ],
   "source": [
    "import re\n",
    "\n",
    "txt = \"The rain in Spain\"\n",
    "\n",
    "#Check if the string contains any digits (numbers from 0-9):\n",
    "\n",
    "x = re.findall(\"\\d\", txt)\n",
    "\n",
    "print(x)\n",
    "\n",
    "if x:\n",
    "  print(\"Yes, there is at least one match!\")\n",
    "else:\n",
    "  print(\"No match\")"
   ]
  },
  {
   "cell_type": "markdown",
   "metadata": {},
   "source": [
    "`\\D` Returns a match where the string DOES NOT contain digits"
   ]
  },
  {
   "cell_type": "code",
   "execution_count": 20,
   "metadata": {},
   "outputs": [
    {
     "name": "stdout",
     "output_type": "stream",
     "text": [
      "['T', 'h', 'e', ' ', 'r', 'a', 'i', 'n', ' ', 'i', 'n', ' ', 'S', 'p', 'a', 'i', 'n']\n",
      "Yes, there is at least one match!\n"
     ]
    }
   ],
   "source": [
    "import re\n",
    "\n",
    "txt = \"The rain in Spain\"\n",
    "\n",
    "#Return a match at every no-digit character:\n",
    "\n",
    "x = re.findall(\"\\D\", txt)\n",
    "\n",
    "print(x)\n",
    "\n",
    "if x:\n",
    "  print(\"Yes, there is at least one match!\")\n",
    "else:\n",
    "  print(\"No match\")"
   ]
  },
  {
   "cell_type": "markdown",
   "metadata": {},
   "source": [
    "`\\s` Returns a match where the string contains a white space character"
   ]
  },
  {
   "cell_type": "code",
   "execution_count": 21,
   "metadata": {},
   "outputs": [
    {
     "name": "stdout",
     "output_type": "stream",
     "text": [
      "[' ', ' ', ' ']\n",
      "Yes, there is at least one match!\n"
     ]
    }
   ],
   "source": [
    "import re\n",
    "txt = \"The rain in Spain\"\n",
    "#Return a match at every white-space character:\n",
    "x = re.findall(\"\\s\", txt)\n",
    "print(x)\n",
    "if x:\n",
    "  print(\"Yes, there is at least one match!\")\n",
    "else:\n",
    "  print(\"No match\")"
   ]
  },
  {
   "cell_type": "markdown",
   "metadata": {},
   "source": [
    "`\\S` Returns a match where the string DOES NOT contain a white space character"
   ]
  },
  {
   "cell_type": "code",
   "execution_count": 1,
   "metadata": {},
   "outputs": [
    {
     "name": "stdout",
     "output_type": "stream",
     "text": [
      "['T', 'h', 'e', 'r', 'a', 'i', 'n', 'i', 'n', 'S', 'p', 'a', 'i', 'n']\n",
      "Yes\n"
     ]
    }
   ],
   "source": [
    "# Return a match at every Non white-space character\n",
    "import re\n",
    "txt = \"The rain in Spain\"\n",
    "x = re.findall(\"\\S\", txt)\n",
    "print(x)\n",
    "if x:\n",
    "    print(\"Yes\")\n"
   ]
  },
  {
   "cell_type": "markdown",
   "metadata": {},
   "source": [
    "`\\w` Returns a match where the string contains any word characters (characters from a to Z, digits from 0-9, and the underscore _ character)"
   ]
  },
  {
   "cell_type": "code",
   "execution_count": 2,
   "metadata": {},
   "outputs": [
    {
     "name": "stdout",
     "output_type": "stream",
     "text": [
      "['T', 'h', 'e', 'r', 'a', 'i', 'n', 'i', 'n', 'S', 'p', 'a', 'i', 'n']\n",
      "Yes\n"
     ]
    }
   ],
   "source": [
    "# Return a match at every word character\n",
    "import re\n",
    "txt = \"The rain in Spain\"\n",
    "x = re.findall(\"\\w\", txt)\n",
    "print(x)\n",
    "if x:\n",
    "    print(\"Yes\")"
   ]
  },
  {
   "cell_type": "markdown",
   "metadata": {},
   "source": [
    "`\\W` Returns a match where the string DOES NOT contain any word characters"
   ]
  },
  {
   "cell_type": "code",
   "execution_count": 4,
   "metadata": {},
   "outputs": [
    {
     "name": "stdout",
     "output_type": "stream",
     "text": [
      "[' ', ' ', ' ']\n",
      "Yes\n"
     ]
    }
   ],
   "source": [
    "# Return a match where the string DOES NOT contain any word characters\n",
    "import re\n",
    "txt = \"The rain in Spain\"\n",
    "x = re.findall(\"\\W\", txt)\n",
    "print(x)\n",
    "if x:\n",
    "    print(\"Yes\")"
   ]
  },
  {
   "cell_type": "markdown",
   "metadata": {},
   "source": [
    "`\\Z` Returns a match if the specified characters are at the end of the string"
   ]
  },
  {
   "cell_type": "code",
   "execution_count": 5,
   "metadata": {},
   "outputs": [
    {
     "name": "stdout",
     "output_type": "stream",
     "text": [
      "['Spain']\n",
      "Yes\n"
     ]
    }
   ],
   "source": [
    "# Check if the string ends with \"Spain\"\n",
    "import re\n",
    "txt = \"The rain in Spain\"\n",
    "x = re.findall(\"Spain\\Z\", txt)\n",
    "print(x)\n",
    "if x:\n",
    "    print(\"Yes\")"
   ]
  },
  {
   "cell_type": "markdown",
   "metadata": {},
   "source": [
    "### Sets"
   ]
  },
  {
   "cell_type": "markdown",
   "metadata": {},
   "source": [
    "`[arn]` Returns a match where one of the specified characters (a, r, or n) is present"
   ]
  },
  {
   "cell_type": "code",
   "execution_count": 6,
   "metadata": {},
   "outputs": [
    {
     "name": "stdout",
     "output_type": "stream",
     "text": [
      "['r', 'a', 'n', 'n', 'a', 'n']\n",
      "Yes\n"
     ]
    }
   ],
   "source": [
    "# Check if the string has any a, r, or n characters\n",
    "import re\n",
    "txt = \"The rain in Spain\"\n",
    "x = re.findall(\"[arn]\", txt)\n",
    "print(x)\n",
    "if x:\n",
    "    print(\"Yes\")"
   ]
  },
  {
   "cell_type": "markdown",
   "metadata": {},
   "source": [
    "`[a-n]` Returns a match for any lower case character, alphabetically between a and n"
   ]
  },
  {
   "cell_type": "code",
   "execution_count": 7,
   "metadata": {},
   "outputs": [
    {
     "name": "stdout",
     "output_type": "stream",
     "text": [
      "['h', 'e', 'a', 'i', 'n', 'i', 'n', 'a', 'i', 'n']\n",
      "Yes\n"
     ]
    }
   ],
   "source": [
    "# Check if the string contain any lower character between a and n\n",
    "import re\n",
    "txt = \"The spain in rain\"\n",
    "x = re.findall(\"[a-n]\", txt)\n",
    "print(x)\n",
    "if x:\n",
    "    print(\"Yes\")"
   ]
  },
  {
   "cell_type": "markdown",
   "metadata": {},
   "source": [
    "`[^arn]` Returns a match for any character EXCEPT a, r, and n"
   ]
  },
  {
   "cell_type": "code",
   "execution_count": 8,
   "metadata": {},
   "outputs": [
    {
     "name": "stdout",
     "output_type": "stream",
     "text": [
      "['T', 'h', 'e', ' ', 'i', ' ', 'i', ' ', 'S', 'p', 'i']\n",
      "Yes\n"
     ]
    }
   ],
   "source": [
    "# Check if the string has other characters than a, r, or n\n",
    "import re\n",
    "txt = 'The rain in Spain'\n",
    "x = re.findall(\"[^arn]\", txt)\n",
    "print(x)\n",
    "if x:\n",
    "    print(\"Yes\")"
   ]
  },
  {
   "cell_type": "markdown",
   "metadata": {},
   "source": [
    "`[0123]` Returns a match where any of the specified digits (0, 1, 2, or 3) are present"
   ]
  },
  {
   "cell_type": "code",
   "execution_count": 9,
   "metadata": {},
   "outputs": [
    {
     "name": "stdout",
     "output_type": "stream",
     "text": [
      "[]\n"
     ]
    }
   ],
   "source": [
    "# Check if the string has any 0, 1, 2, 3 digits\n",
    "import re\n",
    "txt = 'The rain in Spain'\n",
    "x = re.findall('[0123]', txt)\n",
    "print(x)\n",
    "if x:\n",
    "    print(\"Yes\")"
   ]
  },
  {
   "cell_type": "markdown",
   "metadata": {},
   "source": [
    "`[0-9]` Returns a match for any digit between 0 and 9"
   ]
  },
  {
   "cell_type": "code",
   "execution_count": 10,
   "metadata": {},
   "outputs": [
    {
     "name": "stdout",
     "output_type": "stream",
     "text": [
      "['8', '1', '1', '4', '5']\n",
      "Yes\n"
     ]
    }
   ],
   "source": [
    "# Check if the string has any digits\n",
    "import re\n",
    "txt = '8 times before 11:45 AM'\n",
    "x = re.findall('[0-9]', txt)\n",
    "print(x)\n",
    "if x:\n",
    "    print(\"Yes\")"
   ]
  },
  {
   "cell_type": "markdown",
   "metadata": {},
   "source": [
    "`[0-5][0-9]` Returns a match for any two-digit numbers from 00 and 59"
   ]
  },
  {
   "cell_type": "code",
   "execution_count": 12,
   "metadata": {},
   "outputs": [
    {
     "name": "stdout",
     "output_type": "stream",
     "text": [
      "['11', '45']\n",
      "Yes\n"
     ]
    }
   ],
   "source": [
    "# Check if string has any digits from 00 to 59\n",
    "import re\n",
    "txt = '8 times before 11:45 AM'\n",
    "x = re.findall('[0-5][0-9]', txt)\n",
    "print(x)\n",
    "if x:\n",
    "    print(\"Yes\")"
   ]
  },
  {
   "cell_type": "markdown",
   "metadata": {},
   "source": [
    "`[a-zA-Z]` Returns a match for any character alphabetically between a and z, lower case OR upper case"
   ]
  },
  {
   "cell_type": "code",
   "execution_count": 13,
   "metadata": {},
   "outputs": [
    {
     "name": "stdout",
     "output_type": "stream",
     "text": [
      "['t', 'i', 'm', 'e', 's', 'b', 'e', 'f', 'o', 'r', 'e', 'A', 'M']\n",
      "Yes\n"
     ]
    }
   ],
   "source": [
    "# Check if the string has any characters from a to z lower case, and A to Z upper case\n",
    "import re\n",
    "txt = \"8 times before 11:45 AM\"\n",
    "x = re.findall('[a-zA-Z]', txt)\n",
    "print(x)\n",
    "if x:\n",
    "    print(\"Yes\")"
   ]
  },
  {
   "cell_type": "markdown",
   "metadata": {},
   "source": [
    "### The `findall()` function\n",
    "The `findall()` function returns a list containing all matches"
   ]
  },
  {
   "cell_type": "code",
   "execution_count": 14,
   "metadata": {},
   "outputs": [
    {
     "name": "stdout",
     "output_type": "stream",
     "text": [
      "['ai', 'ai']\n"
     ]
    }
   ],
   "source": [
    "import re\n",
    "txt = 'The rain in Spain'\n",
    "x = re.findall(\"ai\", txt)\n",
    "print(x)"
   ]
  },
  {
   "cell_type": "markdown",
   "metadata": {},
   "source": [
    "### The `search()` function\n",
    "The `search()` function searches the string for a match, and returns a Match object if there is a match\n",
    "\n",
    "If there is more than one match, only the first occurence of the match will be returned\n",
    "\n",
    "If no matches are found, the value `None` is returned"
   ]
  },
  {
   "cell_type": "code",
   "execution_count": 5,
   "metadata": {},
   "outputs": [
    {
     "name": "stdout",
     "output_type": "stream",
     "text": [
      "The first white-space character is located in position: 3\n",
      "The rain in Spain\n",
      " \n"
     ]
    }
   ],
   "source": [
    "# Search for the first white-space character in the string\n",
    "import re\n",
    "txt = 'The rain in Spain'\n",
    "x = re.search('\\s', txt)\n",
    "print('The first white-space character is located in position:', x.start())\n",
    "print(x.string)\n",
    "print(x.group())"
   ]
  },
  {
   "cell_type": "markdown",
   "metadata": {},
   "source": [
    "### Match Object\n",
    "A Match Object is an object containing information about the search and the result\n",
    "\n",
    "The Match object has properties and methods used to retrieve information about the search, and the result:\n",
    "\n",
    "`.span()` returns a tuple containing the start, and end positions of the match\n",
    "\n",
    "`.string` returns the string passed into the function\n",
    "\n",
    "`.group()` returns the part of the string where there was a match"
   ]
  },
  {
   "cell_type": "markdown",
   "metadata": {},
   "source": [
    "### The `split()` Function\n",
    "The `split()` function returns a list where the string has been split at each match"
   ]
  },
  {
   "cell_type": "code",
   "execution_count": 11,
   "metadata": {},
   "outputs": [
    {
     "name": "stdout",
     "output_type": "stream",
     "text": [
      "['The', 'rain', 'in', 'Spain']\n",
      "['The', 'rain in Spain']\n"
     ]
    }
   ],
   "source": [
    "# Split at each white-space character\n",
    "import re\n",
    "txt = 'The rain in Spain'\n",
    "x = re.split('\\s', txt)\n",
    "print(x)\n",
    "\n",
    "# You can control the number of occurences by specifying the maxsplit parameter\n",
    "import re\n",
    "txt = 'The rain in Spain'\n",
    "x = re.split('\\s', txt, 1)\n",
    "print(x)"
   ]
  },
  {
   "cell_type": "markdown",
   "metadata": {},
   "source": [
    "### The `sub()` Function\n",
    "The `sub()` function replaces the matches with the text of your choice"
   ]
  },
  {
   "cell_type": "code",
   "execution_count": 13,
   "metadata": {},
   "outputs": [
    {
     "name": "stdout",
     "output_type": "stream",
     "text": [
      "The9rain9in9Spain\n",
      "The9rain9in Spain\n"
     ]
    }
   ],
   "source": [
    "# Replace every white-space character with the number 9\n",
    "import re\n",
    "txt = 'The rain in Spain'\n",
    "x = re.sub('\\s', '9', txt)\n",
    "print(x)\n",
    "\n",
    "# You can control the number of replacements by specifying the count parameter\n",
    "import re\n",
    "txt = 'The rain in Spain'\n",
    "x = re.sub('\\s', '9', txt, 2)\n",
    "print(x)"
   ]
  }
 ],
 "metadata": {
  "kernelspec": {
   "display_name": "Python 3",
   "language": "python",
   "name": "python3"
  },
  "language_info": {
   "codemirror_mode": {
    "name": "ipython",
    "version": 3
   },
   "file_extension": ".py",
   "mimetype": "text/x-python",
   "name": "python",
   "nbconvert_exporter": "python",
   "pygments_lexer": "ipython3",
   "version": "3.11.1"
  },
  "orig_nbformat": 4
 },
 "nbformat": 4,
 "nbformat_minor": 2
}
