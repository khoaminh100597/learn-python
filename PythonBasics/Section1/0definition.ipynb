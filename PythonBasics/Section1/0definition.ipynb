{
 "cells": [
  {
   "cell_type": "markdown",
   "metadata": {},
   "source": [
    "### High-level"
   ]
  },
  {
   "cell_type": "markdown",
   "metadata": {},
   "source": [
    "Python is a `high-level` programming language that makes it easy to learn. Python doesn’t require you to understand the details of the computer in order to develop programs efficiently."
   ]
  },
  {
   "cell_type": "markdown",
   "metadata": {},
   "source": [
    "### General purpose"
   ]
  },
  {
   "cell_type": "markdown",
   "metadata": {},
   "source": [
    "Python is a general-purpose language. It means that you can use Python in various domains including:\n",
    "- Web applications\n",
    "- Big data applications\n",
    "- Testing\n",
    "- Automation\n",
    "- Data science, machine learning, and AI\n",
    "- Desktop software\n",
    "- Mobile apps"
   ]
  },
  {
   "cell_type": "markdown",
   "metadata": {},
   "source": [
    "### Interpreted"
   ]
  },
  {
   "cell_type": "markdown",
   "metadata": {},
   "source": [
    "To execute the source code, you need to convert it to the machine language that the computer can understand\n",
    "\n",
    "And the python interpreter turns the source code, line by line, once at a time, into the machine code when the Python program executes\n",
    "\n",
    "Compiled languages like Java and C# uses a compiler that compiles the whole source code before the program executes"
   ]
  },
  {
   "cell_type": "markdown",
   "metadata": {},
   "source": [
    "# Why Python"
   ]
  },
  {
   "cell_type": "markdown",
   "metadata": {},
   "source": [
    "Python increases your productivity. Python allows you to solve complex problems in less time and fewer lines of code. It’s quick to make a prototype in Python.\n",
    "\n",
    "Python becomes a solution in many areas across industries, from web applications to data science and machine learning.\n",
    "\n",
    "Python is quite easy to learn in comparison with other programming languages. Python syntax is clear and beautiful.\n",
    "\n",
    "Python has a large ecosystem that includes lots of libraries and frameworks.\n",
    "\n",
    "Python is cross-platform. Python programs can run on Windows, Linux, and macOS.\n",
    "\n",
    "Python has a huge community. Whenever you get stuck, you can get help from an active community.\n",
    "\n",
    "Python developers are in high demand."
   ]
  },
  {
   "cell_type": "markdown",
   "metadata": {},
   "source": []
  }
 ],
 "metadata": {
  "language_info": {
   "name": "python"
  },
  "orig_nbformat": 4
 },
 "nbformat": 4,
 "nbformat_minor": 2
}
