{
 "cells": [
  {
   "cell_type": "markdown",
   "metadata": {},
   "source": [
    "# What is a variable"
   ]
  },
  {
   "cell_type": "markdown",
   "metadata": {},
   "source": [
    "In Python, a variable is a label that you can assign a value to it. And a variable is always associated with a value.\n",
    "\n",
    "The `=` is the assignment operator.\n",
    "\n",
    "The following are the variable rules that you should keep in mind:\n",
    "\n",
    "- Variable names can contain only letters, numbers, and underscores (_). They can start with a letter or an underscore (_), not with a number.\n",
    "\n",
    "- Variable names cannot contain spaces. To separate words in variables, you use underscores for example sorted_list.\n",
    "\n",
    "- Variable names cannot be the same as keywords, reserved words, and built-in functions in Python.\n",
    "\n",
    "The following guidelines help you define good variable names:\n",
    "\n",
    "- Variable names should be concise and descriptive. For example, the `active_user` variable is more descriptive than the `au`.\n",
    "\n",
    "- Use underscores (_) to separate multiple words in the variable names.\n",
    "Avoid using the letter l and the uppercase letter O because they look like the number 1 and 0."
   ]
  },
  {
   "cell_type": "code",
   "execution_count": 1,
   "metadata": {},
   "outputs": [
    {
     "name": "stdout",
     "output_type": "stream",
     "text": [
      "1\n"
     ]
    }
   ],
   "source": [
    "counter = 1\n",
    "message = 'Hello World'\n",
    "print(counter)"
   ]
  },
  {
   "cell_type": "code",
   "execution_count": null,
   "metadata": {},
   "outputs": [],
   "source": []
  }
 ],
 "metadata": {
  "kernelspec": {
   "display_name": "Python 3",
   "language": "python",
   "name": "python3"
  },
  "language_info": {
   "codemirror_mode": {
    "name": "ipython",
    "version": 3
   },
   "file_extension": ".py",
   "mimetype": "text/x-python",
   "name": "python",
   "nbconvert_exporter": "python",
   "pygments_lexer": "ipython3",
   "version": "3.9.13"
  },
  "orig_nbformat": 4
 },
 "nbformat": 4,
 "nbformat_minor": 2
}
