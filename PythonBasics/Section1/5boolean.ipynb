{
 "cells": [
  {
   "cell_type": "markdown",
   "metadata": {},
   "source": [
    "# Booleans"
   ]
  },
  {
   "cell_type": "markdown",
   "metadata": {},
   "source": [
    "In programming you often need to know if an expression is `True` or `False`.\n",
    "\n",
    "You can evaluate any expression in Python, and get one of two answers, `True` or `False`."
   ]
  },
  {
   "cell_type": "code",
   "execution_count": 1,
   "metadata": {},
   "outputs": [
    {
     "name": "stdout",
     "output_type": "stream",
     "text": [
      "True\n",
      "False\n",
      "False\n"
     ]
    }
   ],
   "source": [
    "print(10>9)\n",
    "print(10==9)\n",
    "print(10<9)"
   ]
  },
  {
   "cell_type": "markdown",
   "metadata": {},
   "source": [
    "When you run a condition in an `if` statement, Python returns `True` or `False`:"
   ]
  },
  {
   "cell_type": "code",
   "execution_count": 2,
   "metadata": {},
   "outputs": [
    {
     "name": "stdout",
     "output_type": "stream",
     "text": [
      "b is not greater than a\n"
     ]
    }
   ],
   "source": [
    "a = 200\n",
    "b = 33\n",
    "if b > a:\n",
    "    print('b is greater than a')\n",
    "else:\n",
    "    print('b is not greater than a')"
   ]
  },
  {
   "cell_type": "markdown",
   "metadata": {},
   "source": [
    "# Evaluate Values and Variables\n",
    "\n",
    "The `bool()` function allows you to evaluate any value, and give you `True` or `False` in return"
   ]
  },
  {
   "cell_type": "code",
   "execution_count": 3,
   "metadata": {},
   "outputs": [
    {
     "name": "stdout",
     "output_type": "stream",
     "text": [
      "True\n",
      "True\n"
     ]
    }
   ],
   "source": [
    "print(bool('Hello'))\n",
    "print(bool(15))"
   ]
  },
  {
   "cell_type": "markdown",
   "metadata": {},
   "source": [
    "Most values are True\n",
    "\n",
    "Almost any value is evaluated to `True` if it has some sort of content\n",
    "\n",
    "Any string is `True`, except empty strings\n",
    "\n",
    "Any number is `True`, except `0`\n",
    "\n",
    "Any list, tuple, set, and dictionary are `True`, except empty ones\n",
    "\n",
    "Empty values, such as `False`, `()`, `[]`, `{}`, `\"\"`, the number `0`, and the value `None` evaluate to `False`"
   ]
  },
  {
   "cell_type": "code",
   "execution_count": 4,
   "metadata": {},
   "outputs": [
    {
     "name": "stdout",
     "output_type": "stream",
     "text": [
      "False\n",
      "False\n",
      "False\n",
      "False\n",
      "False\n",
      "False\n",
      "False\n"
     ]
    }
   ],
   "source": [
    "print(bool(False))\n",
    "print(bool(None))\n",
    "print(bool([]))\n",
    "print(bool({}))\n",
    "print(bool(()))\n",
    "print(bool(\"\"))\n",
    "print(bool(0))"
   ]
  },
  {
   "cell_type": "markdown",
   "metadata": {},
   "source": [
    "An object that is made from a class with `__len__` function that returns `0` or `False`"
   ]
  },
  {
   "cell_type": "code",
   "execution_count": 5,
   "metadata": {},
   "outputs": [
    {
     "name": "stdout",
     "output_type": "stream",
     "text": [
      "False\n"
     ]
    }
   ],
   "source": [
    "class myclass():\n",
    "    def __len__(self):\n",
    "        return 0\n",
    "    \n",
    "myobj = myclass()\n",
    "print(bool(myobj))"
   ]
  },
  {
   "cell_type": "markdown",
   "metadata": {},
   "source": [
    "# Functions can Return a Boolean\n",
    "\n",
    "You can create functions that returns a Boolean Value:"
   ]
  },
  {
   "cell_type": "code",
   "execution_count": 7,
   "metadata": {},
   "outputs": [
    {
     "name": "stdout",
     "output_type": "stream",
     "text": [
      "True\n"
     ]
    }
   ],
   "source": [
    "def myFunction():\n",
    "    return True\n",
    "\n",
    "print(myFunction())"
   ]
  },
  {
   "cell_type": "markdown",
   "metadata": {},
   "source": [
    "Python also has many built-in functions that return a boolean value, like the `isinstance()` function, which can be used to determine if an object is of a certain data type:"
   ]
  },
  {
   "cell_type": "code",
   "execution_count": 11,
   "metadata": {},
   "outputs": [
    {
     "name": "stdout",
     "output_type": "stream",
     "text": [
      "True\n",
      "True\n",
      "False\n"
     ]
    }
   ],
   "source": [
    "x = 200\n",
    "print(isinstance(x, int))\n",
    "y = 'haha'\n",
    "print(isinstance(y, str))\n",
    "z = 8j\n",
    "print(isinstance(z, float))"
   ]
  },
  {
   "cell_type": "markdown",
   "metadata": {},
   "source": []
  }
 ],
 "metadata": {
  "kernelspec": {
   "display_name": "Python 3",
   "language": "python",
   "name": "python3"
  },
  "language_info": {
   "codemirror_mode": {
    "name": "ipython",
    "version": 3
   },
   "file_extension": ".py",
   "mimetype": "text/x-python",
   "name": "python",
   "nbconvert_exporter": "python",
   "pygments_lexer": "ipython3",
   "version": "3.9.13"
  },
  "orig_nbformat": 4
 },
 "nbformat": 4,
 "nbformat_minor": 2
}
